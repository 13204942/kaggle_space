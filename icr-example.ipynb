{
 "cells": [
  {
   "cell_type": "markdown",
   "id": "1a7fc85a",
   "metadata": {
    "id": "49b6b346",
    "papermill": {
     "duration": 0.019687,
     "end_time": "2023-05-15T16:08:58.653407",
     "exception": false,
     "start_time": "2023-05-15T16:08:58.633720",
     "status": "completed"
    },
    "tags": []
   },
   "source": [
    "# ICR - Identifying Age-Related Conditions"
   ]
  },
  {
   "cell_type": "markdown",
   "id": "e5029b68",
   "metadata": {
    "id": "652ba7d2",
    "papermill": {
     "duration": 0.017509,
     "end_time": "2023-05-15T16:08:58.689138",
     "exception": false,
     "start_time": "2023-05-15T16:08:58.671629",
     "status": "completed"
    },
    "tags": []
   },
   "source": [
    "## Required Libraries"
   ]
  },
  {
   "cell_type": "code",
   "execution_count": 1,
   "id": "180282bb",
   "metadata": {
    "execution": {
     "iopub.execute_input": "2023-05-15T16:08:58.726331Z",
     "iopub.status.busy": "2023-05-15T16:08:58.725577Z",
     "iopub.status.idle": "2023-05-15T16:09:02.665898Z",
     "shell.execute_reply": "2023-05-15T16:09:02.664553Z"
    },
    "id": "69abb4ae",
    "papermill": {
     "duration": 3.962248,
     "end_time": "2023-05-15T16:09:02.668849",
     "exception": false,
     "start_time": "2023-05-15T16:08:58.706601",
     "status": "completed"
    },
    "tags": []
   },
   "outputs": [],
   "source": [
    "import torch\n",
    "import torch.nn as nn\n",
    "import torch.optim as optim\n",
    "import torch.nn.functional as F\n",
    "import torchvision.transforms.functional as TF\n",
    "from torch.utils.data import Dataset, DataLoader\n",
    "\n",
    "import pandas as pd\n",
    "import random\n",
    "import numpy as np\n",
    "import os"
   ]
  },
  {
   "cell_type": "code",
   "execution_count": 2,
   "id": "2948324f",
   "metadata": {
    "execution": {
     "iopub.execute_input": "2023-05-15T16:09:02.707331Z",
     "iopub.status.busy": "2023-05-15T16:09:02.706674Z",
     "iopub.status.idle": "2023-05-15T16:09:03.913340Z",
     "shell.execute_reply": "2023-05-15T16:09:03.911993Z"
    },
    "id": "wflFAR_0Lf6-",
    "papermill": {
     "duration": 1.228346,
     "end_time": "2023-05-15T16:09:03.916109",
     "exception": false,
     "start_time": "2023-05-15T16:09:02.687763",
     "status": "completed"
    },
    "tags": []
   },
   "outputs": [
    {
     "name": "stderr",
     "output_type": "stream",
     "text": [
      "/opt/conda/lib/python3.10/site-packages/scipy/__init__.py:146: UserWarning: A NumPy version >=1.16.5 and <1.23.0 is required for this version of SciPy (detected version 1.23.5\n",
      "  warnings.warn(f\"A NumPy version >={np_minversion} and <{np_maxversion}\"\n"
     ]
    }
   ],
   "source": [
    "import seaborn as sns\n",
    "import matplotlib.pyplot as plt"
   ]
  },
  {
   "cell_type": "code",
   "execution_count": 3,
   "id": "c860a72e",
   "metadata": {
    "execution": {
     "iopub.execute_input": "2023-05-15T16:09:03.954255Z",
     "iopub.status.busy": "2023-05-15T16:09:03.953500Z",
     "iopub.status.idle": "2023-05-15T16:09:04.223760Z",
     "shell.execute_reply": "2023-05-15T16:09:04.222744Z"
    },
    "id": "9fb5c942",
    "papermill": {
     "duration": 0.291814,
     "end_time": "2023-05-15T16:09:04.226479",
     "exception": false,
     "start_time": "2023-05-15T16:09:03.934665",
     "status": "completed"
    },
    "tags": []
   },
   "outputs": [],
   "source": [
    "from sklearn import preprocessing\n",
    "from sklearn.model_selection import train_test_split"
   ]
  },
  {
   "cell_type": "code",
   "execution_count": 4,
   "id": "48fc663c",
   "metadata": {
    "execution": {
     "iopub.execute_input": "2023-05-15T16:09:04.264356Z",
     "iopub.status.busy": "2023-05-15T16:09:04.263069Z",
     "iopub.status.idle": "2023-05-15T16:09:04.271914Z",
     "shell.execute_reply": "2023-05-15T16:09:04.270742Z"
    },
    "executionInfo": {
     "elapsed": 12,
     "status": "ok",
     "timestamp": 1684049419531,
     "user": {
      "displayName": "Fangyijie Wang",
      "userId": "07701241728904216961"
     },
     "user_tz": -60
    },
    "id": "228ebd69",
    "outputId": "c103d34e-aea1-47eb-bc97-dd15b72c0bdf",
    "papermill": {
     "duration": 0.030156,
     "end_time": "2023-05-15T16:09:04.274198",
     "exception": false,
     "start_time": "2023-05-15T16:09:04.244042",
     "status": "completed"
    },
    "tags": []
   },
   "outputs": [
    {
     "data": {
      "text/plain": [
       "'cpu'"
      ]
     },
     "execution_count": 4,
     "metadata": {},
     "output_type": "execute_result"
    }
   ],
   "source": [
    "DEVICE = \"cuda\" if torch.cuda.is_available() else \"cpu\"\n",
    "DEVICE"
   ]
  },
  {
   "cell_type": "code",
   "execution_count": 5,
   "id": "82ed7aeb",
   "metadata": {
    "execution": {
     "iopub.execute_input": "2023-05-15T16:09:04.311806Z",
     "iopub.status.busy": "2023-05-15T16:09:04.311127Z",
     "iopub.status.idle": "2023-05-15T16:09:04.315528Z",
     "shell.execute_reply": "2023-05-15T16:09:04.314783Z"
    },
    "id": "5bbbd9e4",
    "papermill": {
     "duration": 0.025701,
     "end_time": "2023-05-15T16:09:04.317593",
     "exception": false,
     "start_time": "2023-05-15T16:09:04.291892",
     "status": "completed"
    },
    "tags": []
   },
   "outputs": [],
   "source": [
    "#random.seed(13204942)"
   ]
  },
  {
   "cell_type": "markdown",
   "id": "12977215",
   "metadata": {
    "id": "d74829c9",
    "papermill": {
     "duration": 0.017415,
     "end_time": "2023-05-15T16:09:04.352707",
     "exception": false,
     "start_time": "2023-05-15T16:09:04.335292",
     "status": "completed"
    },
    "tags": []
   },
   "source": [
    "## Data Loader and Viewer"
   ]
  },
  {
   "cell_type": "code",
   "execution_count": 6,
   "id": "dd4b1c6a",
   "metadata": {
    "execution": {
     "iopub.execute_input": "2023-05-15T16:09:04.390167Z",
     "iopub.status.busy": "2023-05-15T16:09:04.389803Z",
     "iopub.status.idle": "2023-05-15T16:09:04.394350Z",
     "shell.execute_reply": "2023-05-15T16:09:04.393295Z"
    },
    "id": "2f6e35b8",
    "papermill": {
     "duration": 0.026274,
     "end_time": "2023-05-15T16:09:04.396829",
     "exception": false,
     "start_time": "2023-05-15T16:09:04.370555",
     "status": "completed"
    },
    "tags": []
   },
   "outputs": [],
   "source": [
    "data_file = '/kaggle/input/icr-identify-age-related-conditions/train.csv'"
   ]
  },
  {
   "cell_type": "code",
   "execution_count": 7,
   "id": "56a3f6ef",
   "metadata": {
    "execution": {
     "iopub.execute_input": "2023-05-15T16:09:04.434519Z",
     "iopub.status.busy": "2023-05-15T16:09:04.433833Z",
     "iopub.status.idle": "2023-05-15T16:09:04.475036Z",
     "shell.execute_reply": "2023-05-15T16:09:04.473966Z"
    },
    "id": "96af29db",
    "papermill": {
     "duration": 0.062836,
     "end_time": "2023-05-15T16:09:04.477510",
     "exception": false,
     "start_time": "2023-05-15T16:09:04.414674",
     "status": "completed"
    },
    "tags": []
   },
   "outputs": [],
   "source": [
    "df = pd.read_csv(data_file)"
   ]
  },
  {
   "cell_type": "code",
   "execution_count": 8,
   "id": "16deb034",
   "metadata": {
    "execution": {
     "iopub.execute_input": "2023-05-15T16:09:04.514695Z",
     "iopub.status.busy": "2023-05-15T16:09:04.513966Z",
     "iopub.status.idle": "2023-05-15T16:09:04.520902Z",
     "shell.execute_reply": "2023-05-15T16:09:04.520037Z"
    },
    "id": "RGheSvdDK0uj",
    "papermill": {
     "duration": 0.028002,
     "end_time": "2023-05-15T16:09:04.523045",
     "exception": false,
     "start_time": "2023-05-15T16:09:04.495043",
     "status": "completed"
    },
    "tags": []
   },
   "outputs": [],
   "source": [
    "def summary(text, df):\n",
    "  print(f'{text} shape: {df.shape}')\n",
    "  summ = pd.DataFrame(df.dtypes, columns=['dtypes'])\n",
    "  summ['null'] = df.isnull().sum()\n",
    "  summ['unique'] = df.nunique()\n",
    "  summ['min'] = df.min()\n",
    "  summ['median'] = df.median()\n",
    "  summ['max'] = df.max()\n",
    "  summ['mean'] = df.mean()\n",
    "  summ['std'] = df.std()\n",
    "  summ['duplicate'] = df.duplicated().sum()\n",
    "  return summ"
   ]
  },
  {
   "cell_type": "code",
   "execution_count": 9,
   "id": "83f38720",
   "metadata": {
    "execution": {
     "iopub.execute_input": "2023-05-15T16:09:04.561110Z",
     "iopub.status.busy": "2023-05-15T16:09:04.560387Z",
     "iopub.status.idle": "2023-05-15T16:09:04.665141Z",
     "shell.execute_reply": "2023-05-15T16:09:04.663891Z"
    },
    "executionInfo": {
     "elapsed": 246,
     "status": "ok",
     "timestamp": 1684049650601,
     "user": {
      "displayName": "Fangyijie Wang",
      "userId": "07701241728904216961"
     },
     "user_tz": -60
    },
    "id": "3uZ-Ty0gK6Aw",
    "outputId": "7ff8eb65-9300-46db-91c2-79aa66814725",
    "papermill": {
     "duration": 0.125992,
     "end_time": "2023-05-15T16:09:04.667376",
     "exception": false,
     "start_time": "2023-05-15T16:09:04.541384",
     "status": "completed"
    },
    "tags": []
   },
   "outputs": [
    {
     "name": "stdout",
     "output_type": "stream",
     "text": [
      "train shape: (617, 58)\n"
     ]
    },
    {
     "name": "stderr",
     "output_type": "stream",
     "text": [
      "/tmp/ipykernel_20/817636048.py:7: FutureWarning: The default value of numeric_only in DataFrame.median is deprecated. In a future version, it will default to False. In addition, specifying 'numeric_only=None' is deprecated. Select only valid columns or specify the value of numeric_only to silence this warning.\n",
      "  summ['median'] = df.median()\n",
      "/tmp/ipykernel_20/817636048.py:9: FutureWarning: The default value of numeric_only in DataFrame.mean is deprecated. In a future version, it will default to False. In addition, specifying 'numeric_only=None' is deprecated. Select only valid columns or specify the value of numeric_only to silence this warning.\n",
      "  summ['mean'] = df.mean()\n",
      "/tmp/ipykernel_20/817636048.py:10: FutureWarning: The default value of numeric_only in DataFrame.std is deprecated. In a future version, it will default to False. In addition, specifying 'numeric_only=None' is deprecated. Select only valid columns or specify the value of numeric_only to silence this warning.\n",
      "  summ['std'] = df.std()\n"
     ]
    },
    {
     "data": {
      "text/html": [
       "<div>\n",
       "<style scoped>\n",
       "    .dataframe tbody tr th:only-of-type {\n",
       "        vertical-align: middle;\n",
       "    }\n",
       "\n",
       "    .dataframe tbody tr th {\n",
       "        vertical-align: top;\n",
       "    }\n",
       "\n",
       "    .dataframe thead th {\n",
       "        text-align: right;\n",
       "    }\n",
       "</style>\n",
       "<table border=\"1\" class=\"dataframe\">\n",
       "  <thead>\n",
       "    <tr style=\"text-align: right;\">\n",
       "      <th></th>\n",
       "      <th>dtypes</th>\n",
       "      <th>null</th>\n",
       "      <th>unique</th>\n",
       "      <th>min</th>\n",
       "      <th>median</th>\n",
       "      <th>max</th>\n",
       "      <th>mean</th>\n",
       "      <th>std</th>\n",
       "      <th>duplicate</th>\n",
       "    </tr>\n",
       "  </thead>\n",
       "  <tbody>\n",
       "    <tr>\n",
       "      <th>Id</th>\n",
       "      <td>object</td>\n",
       "      <td>0</td>\n",
       "      <td>617</td>\n",
       "      <td>000ff2bfdfe9</td>\n",
       "      <td>NaN</td>\n",
       "      <td>ffcca4ded3bb</td>\n",
       "      <td>NaN</td>\n",
       "      <td>NaN</td>\n",
       "      <td>0</td>\n",
       "    </tr>\n",
       "    <tr>\n",
       "      <th>AB</th>\n",
       "      <td>float64</td>\n",
       "      <td>0</td>\n",
       "      <td>217</td>\n",
       "      <td>0.081187</td>\n",
       "      <td>0.354659</td>\n",
       "      <td>6.161666</td>\n",
       "      <td>0.477149</td>\n",
       "      <td>0.468388</td>\n",
       "      <td>0</td>\n",
       "    </tr>\n",
       "    <tr>\n",
       "      <th>AF</th>\n",
       "      <td>float64</td>\n",
       "      <td>0</td>\n",
       "      <td>599</td>\n",
       "      <td>192.59328</td>\n",
       "      <td>3120.318960</td>\n",
       "      <td>28688.18766</td>\n",
       "      <td>3502.013221</td>\n",
       "      <td>2300.322717</td>\n",
       "      <td>0</td>\n",
       "    </tr>\n",
       "    <tr>\n",
       "      <th>AH</th>\n",
       "      <td>float64</td>\n",
       "      <td>0</td>\n",
       "      <td>227</td>\n",
       "      <td>85.200147</td>\n",
       "      <td>85.200147</td>\n",
       "      <td>1910.123198</td>\n",
       "      <td>118.624513</td>\n",
       "      <td>127.838950</td>\n",
       "      <td>0</td>\n",
       "    </tr>\n",
       "    <tr>\n",
       "      <th>AM</th>\n",
       "      <td>float64</td>\n",
       "      <td>0</td>\n",
       "      <td>605</td>\n",
       "      <td>3.177522</td>\n",
       "      <td>20.533110</td>\n",
       "      <td>630.51823</td>\n",
       "      <td>38.968552</td>\n",
       "      <td>69.728226</td>\n",
       "      <td>0</td>\n",
       "    </tr>\n",
       "    <tr>\n",
       "      <th>AR</th>\n",
       "      <td>float64</td>\n",
       "      <td>0</td>\n",
       "      <td>130</td>\n",
       "      <td>8.138688</td>\n",
       "      <td>8.138688</td>\n",
       "      <td>178.943634</td>\n",
       "      <td>10.128242</td>\n",
       "      <td>10.518877</td>\n",
       "      <td>0</td>\n",
       "    </tr>\n",
       "    <tr>\n",
       "      <th>AX</th>\n",
       "      <td>float64</td>\n",
       "      <td>0</td>\n",
       "      <td>427</td>\n",
       "      <td>0.699861</td>\n",
       "      <td>5.031912</td>\n",
       "      <td>38.27088</td>\n",
       "      <td>5.545576</td>\n",
       "      <td>2.551696</td>\n",
       "      <td>0</td>\n",
       "    </tr>\n",
       "    <tr>\n",
       "      <th>AY</th>\n",
       "      <td>float64</td>\n",
       "      <td>0</td>\n",
       "      <td>148</td>\n",
       "      <td>0.025578</td>\n",
       "      <td>0.025578</td>\n",
       "      <td>10.315851</td>\n",
       "      <td>0.060320</td>\n",
       "      <td>0.416817</td>\n",
       "      <td>0</td>\n",
       "    </tr>\n",
       "    <tr>\n",
       "      <th>AZ</th>\n",
       "      <td>float64</td>\n",
       "      <td>0</td>\n",
       "      <td>484</td>\n",
       "      <td>3.396778</td>\n",
       "      <td>10.461320</td>\n",
       "      <td>38.971568</td>\n",
       "      <td>10.566447</td>\n",
       "      <td>4.350645</td>\n",
       "      <td>0</td>\n",
       "    </tr>\n",
       "    <tr>\n",
       "      <th>BC</th>\n",
       "      <td>float64</td>\n",
       "      <td>0</td>\n",
       "      <td>259</td>\n",
       "      <td>1.2299</td>\n",
       "      <td>1.229900</td>\n",
       "      <td>1463.693448</td>\n",
       "      <td>8.053012</td>\n",
       "      <td>65.166943</td>\n",
       "      <td>0</td>\n",
       "    </tr>\n",
       "    <tr>\n",
       "      <th>BD</th>\n",
       "      <td>float64</td>\n",
       "      <td>0</td>\n",
       "      <td>617</td>\n",
       "      <td>1693.62432</td>\n",
       "      <td>4997.960730</td>\n",
       "      <td>53060.59924</td>\n",
       "      <td>5350.388655</td>\n",
       "      <td>3021.326641</td>\n",
       "      <td>0</td>\n",
       "    </tr>\n",
       "    <tr>\n",
       "      <th>BN</th>\n",
       "      <td>float64</td>\n",
       "      <td>0</td>\n",
       "      <td>53</td>\n",
       "      <td>9.8868</td>\n",
       "      <td>21.186000</td>\n",
       "      <td>29.3073</td>\n",
       "      <td>21.419492</td>\n",
       "      <td>3.478278</td>\n",
       "      <td>0</td>\n",
       "    </tr>\n",
       "    <tr>\n",
       "      <th>BP</th>\n",
       "      <td>float64</td>\n",
       "      <td>0</td>\n",
       "      <td>612</td>\n",
       "      <td>72.948951</td>\n",
       "      <td>193.908816</td>\n",
       "      <td>2447.81055</td>\n",
       "      <td>231.322223</td>\n",
       "      <td>183.992505</td>\n",
       "      <td>0</td>\n",
       "    </tr>\n",
       "    <tr>\n",
       "      <th>BQ</th>\n",
       "      <td>float64</td>\n",
       "      <td>60</td>\n",
       "      <td>515</td>\n",
       "      <td>1.331155</td>\n",
       "      <td>61.642115</td>\n",
       "      <td>344.644105</td>\n",
       "      <td>98.328737</td>\n",
       "      <td>96.479371</td>\n",
       "      <td>0</td>\n",
       "    </tr>\n",
       "    <tr>\n",
       "      <th>BR</th>\n",
       "      <td>float64</td>\n",
       "      <td>0</td>\n",
       "      <td>566</td>\n",
       "      <td>51.216883</td>\n",
       "      <td>627.417402</td>\n",
       "      <td>179250.2529</td>\n",
       "      <td>1218.133238</td>\n",
       "      <td>7575.293707</td>\n",
       "      <td>0</td>\n",
       "    </tr>\n",
       "    <tr>\n",
       "      <th>BZ</th>\n",
       "      <td>float64</td>\n",
       "      <td>0</td>\n",
       "      <td>115</td>\n",
       "      <td>257.432377</td>\n",
       "      <td>257.432377</td>\n",
       "      <td>50092.4593</td>\n",
       "      <td>550.632525</td>\n",
       "      <td>2076.371275</td>\n",
       "      <td>0</td>\n",
       "    </tr>\n",
       "    <tr>\n",
       "      <th>CB</th>\n",
       "      <td>float64</td>\n",
       "      <td>2</td>\n",
       "      <td>553</td>\n",
       "      <td>12.49976</td>\n",
       "      <td>42.554330</td>\n",
       "      <td>2271.436167</td>\n",
       "      <td>77.104151</td>\n",
       "      <td>159.049302</td>\n",
       "      <td>0</td>\n",
       "    </tr>\n",
       "    <tr>\n",
       "      <th>CC</th>\n",
       "      <td>float64</td>\n",
       "      <td>3</td>\n",
       "      <td>602</td>\n",
       "      <td>0.176874</td>\n",
       "      <td>0.658715</td>\n",
       "      <td>4.103032</td>\n",
       "      <td>0.688801</td>\n",
       "      <td>0.263994</td>\n",
       "      <td>0</td>\n",
       "    </tr>\n",
       "    <tr>\n",
       "      <th>CD</th>\n",
       "      <td>float64</td>\n",
       "      <td>0</td>\n",
       "      <td>584</td>\n",
       "      <td>23.3876</td>\n",
       "      <td>79.819104</td>\n",
       "      <td>633.534408</td>\n",
       "      <td>90.251735</td>\n",
       "      <td>51.585130</td>\n",
       "      <td>0</td>\n",
       "    </tr>\n",
       "    <tr>\n",
       "      <th>CF</th>\n",
       "      <td>float64</td>\n",
       "      <td>0</td>\n",
       "      <td>586</td>\n",
       "      <td>0.510888</td>\n",
       "      <td>9.123000</td>\n",
       "      <td>200.967526</td>\n",
       "      <td>11.241064</td>\n",
       "      <td>13.571133</td>\n",
       "      <td>0</td>\n",
       "    </tr>\n",
       "    <tr>\n",
       "      <th>CH</th>\n",
       "      <td>float64</td>\n",
       "      <td>0</td>\n",
       "      <td>135</td>\n",
       "      <td>0.003184</td>\n",
       "      <td>0.027860</td>\n",
       "      <td>0.224074</td>\n",
       "      <td>0.030615</td>\n",
       "      <td>0.014808</td>\n",
       "      <td>0</td>\n",
       "    </tr>\n",
       "    <tr>\n",
       "      <th>CL</th>\n",
       "      <td>float64</td>\n",
       "      <td>0</td>\n",
       "      <td>123</td>\n",
       "      <td>1.050225</td>\n",
       "      <td>1.050225</td>\n",
       "      <td>31.688153</td>\n",
       "      <td>1.403761</td>\n",
       "      <td>1.922210</td>\n",
       "      <td>0</td>\n",
       "    </tr>\n",
       "    <tr>\n",
       "      <th>CR</th>\n",
       "      <td>float64</td>\n",
       "      <td>0</td>\n",
       "      <td>595</td>\n",
       "      <td>0.069225</td>\n",
       "      <td>0.730800</td>\n",
       "      <td>3.039675</td>\n",
       "      <td>0.742262</td>\n",
       "      <td>0.281195</td>\n",
       "      <td>0</td>\n",
       "    </tr>\n",
       "    <tr>\n",
       "      <th>CS</th>\n",
       "      <td>float64</td>\n",
       "      <td>0</td>\n",
       "      <td>576</td>\n",
       "      <td>13.784111</td>\n",
       "      <td>34.835130</td>\n",
       "      <td>267.942823</td>\n",
       "      <td>36.917590</td>\n",
       "      <td>17.266347</td>\n",
       "      <td>0</td>\n",
       "    </tr>\n",
       "    <tr>\n",
       "      <th>CU</th>\n",
       "      <td>float64</td>\n",
       "      <td>0</td>\n",
       "      <td>307</td>\n",
       "      <td>0.137925</td>\n",
       "      <td>1.351665</td>\n",
       "      <td>4.951507</td>\n",
       "      <td>1.383792</td>\n",
       "      <td>0.538717</td>\n",
       "      <td>0</td>\n",
       "    </tr>\n",
       "    <tr>\n",
       "      <th>CW</th>\n",
       "      <td>float64</td>\n",
       "      <td>0</td>\n",
       "      <td>426</td>\n",
       "      <td>7.03064</td>\n",
       "      <td>36.019104</td>\n",
       "      <td>64.521624</td>\n",
       "      <td>27.165653</td>\n",
       "      <td>14.645993</td>\n",
       "      <td>0</td>\n",
       "    </tr>\n",
       "    <tr>\n",
       "      <th>DA</th>\n",
       "      <td>float64</td>\n",
       "      <td>0</td>\n",
       "      <td>611</td>\n",
       "      <td>6.9064</td>\n",
       "      <td>49.180940</td>\n",
       "      <td>210.33092</td>\n",
       "      <td>51.128326</td>\n",
       "      <td>21.210888</td>\n",
       "      <td>0</td>\n",
       "    </tr>\n",
       "    <tr>\n",
       "      <th>DE</th>\n",
       "      <td>float64</td>\n",
       "      <td>0</td>\n",
       "      <td>616</td>\n",
       "      <td>35.998895</td>\n",
       "      <td>307.509595</td>\n",
       "      <td>2103.40519</td>\n",
       "      <td>401.901299</td>\n",
       "      <td>317.745623</td>\n",
       "      <td>0</td>\n",
       "    </tr>\n",
       "    <tr>\n",
       "      <th>DF</th>\n",
       "      <td>float64</td>\n",
       "      <td>0</td>\n",
       "      <td>137</td>\n",
       "      <td>0.23868</td>\n",
       "      <td>0.238680</td>\n",
       "      <td>37.895013</td>\n",
       "      <td>0.633884</td>\n",
       "      <td>1.912384</td>\n",
       "      <td>0</td>\n",
       "    </tr>\n",
       "    <tr>\n",
       "      <th>DH</th>\n",
       "      <td>float64</td>\n",
       "      <td>0</td>\n",
       "      <td>191</td>\n",
       "      <td>0.040995</td>\n",
       "      <td>0.358023</td>\n",
       "      <td>1.060404</td>\n",
       "      <td>0.367002</td>\n",
       "      <td>0.112989</td>\n",
       "      <td>0</td>\n",
       "    </tr>\n",
       "    <tr>\n",
       "      <th>DI</th>\n",
       "      <td>float64</td>\n",
       "      <td>0</td>\n",
       "      <td>571</td>\n",
       "      <td>60.23247</td>\n",
       "      <td>130.050630</td>\n",
       "      <td>1049.168078</td>\n",
       "      <td>146.972099</td>\n",
       "      <td>86.084419</td>\n",
       "      <td>0</td>\n",
       "    </tr>\n",
       "    <tr>\n",
       "      <th>DL</th>\n",
       "      <td>float64</td>\n",
       "      <td>0</td>\n",
       "      <td>604</td>\n",
       "      <td>10.3456</td>\n",
       "      <td>96.264960</td>\n",
       "      <td>326.2362</td>\n",
       "      <td>94.795377</td>\n",
       "      <td>28.243187</td>\n",
       "      <td>0</td>\n",
       "    </tr>\n",
       "    <tr>\n",
       "      <th>DN</th>\n",
       "      <td>float64</td>\n",
       "      <td>0</td>\n",
       "      <td>576</td>\n",
       "      <td>6.339496</td>\n",
       "      <td>25.248800</td>\n",
       "      <td>62.808096</td>\n",
       "      <td>26.370568</td>\n",
       "      <td>8.038825</td>\n",
       "      <td>0</td>\n",
       "    </tr>\n",
       "    <tr>\n",
       "      <th>DU</th>\n",
       "      <td>float64</td>\n",
       "      <td>1</td>\n",
       "      <td>253</td>\n",
       "      <td>0.005518</td>\n",
       "      <td>0.251741</td>\n",
       "      <td>161.355315</td>\n",
       "      <td>1.802900</td>\n",
       "      <td>9.034721</td>\n",
       "      <td>0</td>\n",
       "    </tr>\n",
       "    <tr>\n",
       "      <th>DV</th>\n",
       "      <td>float64</td>\n",
       "      <td>0</td>\n",
       "      <td>39</td>\n",
       "      <td>1.74307</td>\n",
       "      <td>1.743070</td>\n",
       "      <td>25.19293</td>\n",
       "      <td>1.924830</td>\n",
       "      <td>1.484555</td>\n",
       "      <td>0</td>\n",
       "    </tr>\n",
       "    <tr>\n",
       "      <th>DY</th>\n",
       "      <td>float64</td>\n",
       "      <td>0</td>\n",
       "      <td>590</td>\n",
       "      <td>0.804068</td>\n",
       "      <td>21.642456</td>\n",
       "      <td>152.355164</td>\n",
       "      <td>26.388989</td>\n",
       "      <td>18.116679</td>\n",
       "      <td>0</td>\n",
       "    </tr>\n",
       "    <tr>\n",
       "      <th>EB</th>\n",
       "      <td>float64</td>\n",
       "      <td>0</td>\n",
       "      <td>439</td>\n",
       "      <td>4.926396</td>\n",
       "      <td>8.149404</td>\n",
       "      <td>94.95858</td>\n",
       "      <td>9.072700</td>\n",
       "      <td>6.200281</td>\n",
       "      <td>0</td>\n",
       "    </tr>\n",
       "    <tr>\n",
       "      <th>EE</th>\n",
       "      <td>float64</td>\n",
       "      <td>0</td>\n",
       "      <td>513</td>\n",
       "      <td>0.286201</td>\n",
       "      <td>2.616119</td>\n",
       "      <td>18.324926</td>\n",
       "      <td>3.064778</td>\n",
       "      <td>2.058344</td>\n",
       "      <td>0</td>\n",
       "    </tr>\n",
       "    <tr>\n",
       "      <th>EG</th>\n",
       "      <td>float64</td>\n",
       "      <td>0</td>\n",
       "      <td>610</td>\n",
       "      <td>185.5941</td>\n",
       "      <td>1493.817413</td>\n",
       "      <td>30243.75878</td>\n",
       "      <td>1731.248215</td>\n",
       "      <td>1790.227476</td>\n",
       "      <td>0</td>\n",
       "    </tr>\n",
       "    <tr>\n",
       "      <th>EH</th>\n",
       "      <td>float64</td>\n",
       "      <td>0</td>\n",
       "      <td>127</td>\n",
       "      <td>0.003042</td>\n",
       "      <td>0.085176</td>\n",
       "      <td>42.569748</td>\n",
       "      <td>0.305107</td>\n",
       "      <td>1.847499</td>\n",
       "      <td>0</td>\n",
       "    </tr>\n",
       "    <tr>\n",
       "      <th>EJ</th>\n",
       "      <td>object</td>\n",
       "      <td>0</td>\n",
       "      <td>2</td>\n",
       "      <td>A</td>\n",
       "      <td>NaN</td>\n",
       "      <td>B</td>\n",
       "      <td>NaN</td>\n",
       "      <td>NaN</td>\n",
       "      <td>0</td>\n",
       "    </tr>\n",
       "    <tr>\n",
       "      <th>EL</th>\n",
       "      <td>float64</td>\n",
       "      <td>60</td>\n",
       "      <td>311</td>\n",
       "      <td>5.394675</td>\n",
       "      <td>71.949306</td>\n",
       "      <td>109.125159</td>\n",
       "      <td>69.582596</td>\n",
       "      <td>38.555707</td>\n",
       "      <td>0</td>\n",
       "    </tr>\n",
       "    <tr>\n",
       "      <th>EP</th>\n",
       "      <td>float64</td>\n",
       "      <td>0</td>\n",
       "      <td>275</td>\n",
       "      <td>78.526968</td>\n",
       "      <td>78.526968</td>\n",
       "      <td>1063.594578</td>\n",
       "      <td>105.060712</td>\n",
       "      <td>68.445620</td>\n",
       "      <td>0</td>\n",
       "    </tr>\n",
       "    <tr>\n",
       "      <th>EU</th>\n",
       "      <td>float64</td>\n",
       "      <td>0</td>\n",
       "      <td>455</td>\n",
       "      <td>3.828384</td>\n",
       "      <td>22.641144</td>\n",
       "      <td>6501.26448</td>\n",
       "      <td>69.117005</td>\n",
       "      <td>390.187057</td>\n",
       "      <td>0</td>\n",
       "    </tr>\n",
       "    <tr>\n",
       "      <th>FC</th>\n",
       "      <td>float64</td>\n",
       "      <td>1</td>\n",
       "      <td>600</td>\n",
       "      <td>7.534128</td>\n",
       "      <td>36.394008</td>\n",
       "      <td>3030.655824</td>\n",
       "      <td>71.341526</td>\n",
       "      <td>165.551545</td>\n",
       "      <td>0</td>\n",
       "    </tr>\n",
       "    <tr>\n",
       "      <th>FD</th>\n",
       "      <td>float64</td>\n",
       "      <td>0</td>\n",
       "      <td>337</td>\n",
       "      <td>0.29685</td>\n",
       "      <td>1.870155</td>\n",
       "      <td>1578.654237</td>\n",
       "      <td>6.930086</td>\n",
       "      <td>64.754262</td>\n",
       "      <td>0</td>\n",
       "    </tr>\n",
       "    <tr>\n",
       "      <th>FE</th>\n",
       "      <td>float64</td>\n",
       "      <td>0</td>\n",
       "      <td>615</td>\n",
       "      <td>1563.136688</td>\n",
       "      <td>7345.143424</td>\n",
       "      <td>143224.6823</td>\n",
       "      <td>10306.810737</td>\n",
       "      <td>11331.294051</td>\n",
       "      <td>0</td>\n",
       "    </tr>\n",
       "    <tr>\n",
       "      <th>FI</th>\n",
       "      <td>float64</td>\n",
       "      <td>0</td>\n",
       "      <td>498</td>\n",
       "      <td>3.58345</td>\n",
       "      <td>9.945452</td>\n",
       "      <td>35.851039</td>\n",
       "      <td>10.111079</td>\n",
       "      <td>2.934025</td>\n",
       "      <td>0</td>\n",
       "    </tr>\n",
       "    <tr>\n",
       "      <th>FL</th>\n",
       "      <td>float64</td>\n",
       "      <td>1</td>\n",
       "      <td>388</td>\n",
       "      <td>0.173229</td>\n",
       "      <td>3.028141</td>\n",
       "      <td>137.932739</td>\n",
       "      <td>5.433199</td>\n",
       "      <td>11.496257</td>\n",
       "      <td>0</td>\n",
       "    </tr>\n",
       "    <tr>\n",
       "      <th>FR</th>\n",
       "      <td>float64</td>\n",
       "      <td>0</td>\n",
       "      <td>435</td>\n",
       "      <td>0.49706</td>\n",
       "      <td>1.131000</td>\n",
       "      <td>1244.22702</td>\n",
       "      <td>3.533905</td>\n",
       "      <td>50.181948</td>\n",
       "      <td>0</td>\n",
       "    </tr>\n",
       "    <tr>\n",
       "      <th>FS</th>\n",
       "      <td>float64</td>\n",
       "      <td>2</td>\n",
       "      <td>161</td>\n",
       "      <td>0.06773</td>\n",
       "      <td>0.250601</td>\n",
       "      <td>31.365763</td>\n",
       "      <td>0.421501</td>\n",
       "      <td>1.305365</td>\n",
       "      <td>0</td>\n",
       "    </tr>\n",
       "    <tr>\n",
       "      <th>GB</th>\n",
       "      <td>float64</td>\n",
       "      <td>0</td>\n",
       "      <td>560</td>\n",
       "      <td>4.102182</td>\n",
       "      <td>18.771436</td>\n",
       "      <td>135.781294</td>\n",
       "      <td>20.724856</td>\n",
       "      <td>9.991907</td>\n",
       "      <td>0</td>\n",
       "    </tr>\n",
       "    <tr>\n",
       "      <th>GE</th>\n",
       "      <td>float64</td>\n",
       "      <td>0</td>\n",
       "      <td>264</td>\n",
       "      <td>72.611063</td>\n",
       "      <td>72.611063</td>\n",
       "      <td>1497.351958</td>\n",
       "      <td>131.714987</td>\n",
       "      <td>144.181524</td>\n",
       "      <td>0</td>\n",
       "    </tr>\n",
       "    <tr>\n",
       "      <th>GF</th>\n",
       "      <td>float64</td>\n",
       "      <td>0</td>\n",
       "      <td>611</td>\n",
       "      <td>13.038894</td>\n",
       "      <td>7838.273610</td>\n",
       "      <td>143790.0712</td>\n",
       "      <td>14679.595398</td>\n",
       "      <td>19352.959387</td>\n",
       "      <td>0</td>\n",
       "    </tr>\n",
       "    <tr>\n",
       "      <th>GH</th>\n",
       "      <td>float64</td>\n",
       "      <td>0</td>\n",
       "      <td>596</td>\n",
       "      <td>9.432735</td>\n",
       "      <td>30.608946</td>\n",
       "      <td>81.210825</td>\n",
       "      <td>31.489716</td>\n",
       "      <td>9.864239</td>\n",
       "      <td>0</td>\n",
       "    </tr>\n",
       "    <tr>\n",
       "      <th>GI</th>\n",
       "      <td>float64</td>\n",
       "      <td>0</td>\n",
       "      <td>615</td>\n",
       "      <td>0.897628</td>\n",
       "      <td>41.007968</td>\n",
       "      <td>191.194764</td>\n",
       "      <td>50.584437</td>\n",
       "      <td>36.266251</td>\n",
       "      <td>0</td>\n",
       "    </tr>\n",
       "    <tr>\n",
       "      <th>GL</th>\n",
       "      <td>float64</td>\n",
       "      <td>1</td>\n",
       "      <td>355</td>\n",
       "      <td>0.001129</td>\n",
       "      <td>0.337827</td>\n",
       "      <td>21.978</td>\n",
       "      <td>8.530961</td>\n",
       "      <td>10.327010</td>\n",
       "      <td>0</td>\n",
       "    </tr>\n",
       "    <tr>\n",
       "      <th>Class</th>\n",
       "      <td>int64</td>\n",
       "      <td>0</td>\n",
       "      <td>2</td>\n",
       "      <td>0</td>\n",
       "      <td>0.000000</td>\n",
       "      <td>1</td>\n",
       "      <td>0.175041</td>\n",
       "      <td>0.380310</td>\n",
       "      <td>0</td>\n",
       "    </tr>\n",
       "  </tbody>\n",
       "</table>\n",
       "</div>"
      ],
      "text/plain": [
       "        dtypes  null  unique           min       median           max  \\\n",
       "Id      object     0     617  000ff2bfdfe9          NaN  ffcca4ded3bb   \n",
       "AB     float64     0     217      0.081187     0.354659      6.161666   \n",
       "AF     float64     0     599     192.59328  3120.318960   28688.18766   \n",
       "AH     float64     0     227     85.200147    85.200147   1910.123198   \n",
       "AM     float64     0     605      3.177522    20.533110     630.51823   \n",
       "AR     float64     0     130      8.138688     8.138688    178.943634   \n",
       "AX     float64     0     427      0.699861     5.031912      38.27088   \n",
       "AY     float64     0     148      0.025578     0.025578     10.315851   \n",
       "AZ     float64     0     484      3.396778    10.461320     38.971568   \n",
       "BC     float64     0     259        1.2299     1.229900   1463.693448   \n",
       "BD     float64     0     617    1693.62432  4997.960730   53060.59924   \n",
       "BN     float64     0      53        9.8868    21.186000       29.3073   \n",
       "BP     float64     0     612     72.948951   193.908816    2447.81055   \n",
       "BQ     float64    60     515      1.331155    61.642115    344.644105   \n",
       "BR     float64     0     566     51.216883   627.417402   179250.2529   \n",
       "BZ     float64     0     115    257.432377   257.432377    50092.4593   \n",
       "CB     float64     2     553      12.49976    42.554330   2271.436167   \n",
       "CC     float64     3     602      0.176874     0.658715      4.103032   \n",
       "CD     float64     0     584       23.3876    79.819104    633.534408   \n",
       "CF     float64     0     586      0.510888     9.123000    200.967526   \n",
       "CH     float64     0     135      0.003184     0.027860      0.224074   \n",
       "CL     float64     0     123      1.050225     1.050225     31.688153   \n",
       "CR     float64     0     595      0.069225     0.730800      3.039675   \n",
       "CS     float64     0     576     13.784111    34.835130    267.942823   \n",
       "CU     float64     0     307      0.137925     1.351665      4.951507   \n",
       "CW     float64     0     426       7.03064    36.019104     64.521624   \n",
       "DA     float64     0     611        6.9064    49.180940     210.33092   \n",
       "DE     float64     0     616     35.998895   307.509595    2103.40519   \n",
       "DF     float64     0     137       0.23868     0.238680     37.895013   \n",
       "DH     float64     0     191      0.040995     0.358023      1.060404   \n",
       "DI     float64     0     571      60.23247   130.050630   1049.168078   \n",
       "DL     float64     0     604       10.3456    96.264960      326.2362   \n",
       "DN     float64     0     576      6.339496    25.248800     62.808096   \n",
       "DU     float64     1     253      0.005518     0.251741    161.355315   \n",
       "DV     float64     0      39       1.74307     1.743070      25.19293   \n",
       "DY     float64     0     590      0.804068    21.642456    152.355164   \n",
       "EB     float64     0     439      4.926396     8.149404      94.95858   \n",
       "EE     float64     0     513      0.286201     2.616119     18.324926   \n",
       "EG     float64     0     610      185.5941  1493.817413   30243.75878   \n",
       "EH     float64     0     127      0.003042     0.085176     42.569748   \n",
       "EJ      object     0       2             A          NaN             B   \n",
       "EL     float64    60     311      5.394675    71.949306    109.125159   \n",
       "EP     float64     0     275     78.526968    78.526968   1063.594578   \n",
       "EU     float64     0     455      3.828384    22.641144    6501.26448   \n",
       "FC     float64     1     600      7.534128    36.394008   3030.655824   \n",
       "FD     float64     0     337       0.29685     1.870155   1578.654237   \n",
       "FE     float64     0     615   1563.136688  7345.143424   143224.6823   \n",
       "FI     float64     0     498       3.58345     9.945452     35.851039   \n",
       "FL     float64     1     388      0.173229     3.028141    137.932739   \n",
       "FR     float64     0     435       0.49706     1.131000    1244.22702   \n",
       "FS     float64     2     161       0.06773     0.250601     31.365763   \n",
       "GB     float64     0     560      4.102182    18.771436    135.781294   \n",
       "GE     float64     0     264     72.611063    72.611063   1497.351958   \n",
       "GF     float64     0     611     13.038894  7838.273610   143790.0712   \n",
       "GH     float64     0     596      9.432735    30.608946     81.210825   \n",
       "GI     float64     0     615      0.897628    41.007968    191.194764   \n",
       "GL     float64     1     355      0.001129     0.337827        21.978   \n",
       "Class    int64     0       2             0     0.000000             1   \n",
       "\n",
       "               mean           std  duplicate  \n",
       "Id              NaN           NaN          0  \n",
       "AB         0.477149      0.468388          0  \n",
       "AF      3502.013221   2300.322717          0  \n",
       "AH       118.624513    127.838950          0  \n",
       "AM        38.968552     69.728226          0  \n",
       "AR        10.128242     10.518877          0  \n",
       "AX         5.545576      2.551696          0  \n",
       "AY         0.060320      0.416817          0  \n",
       "AZ        10.566447      4.350645          0  \n",
       "BC         8.053012     65.166943          0  \n",
       "BD      5350.388655   3021.326641          0  \n",
       "BN        21.419492      3.478278          0  \n",
       "BP       231.322223    183.992505          0  \n",
       "BQ        98.328737     96.479371          0  \n",
       "BR      1218.133238   7575.293707          0  \n",
       "BZ       550.632525   2076.371275          0  \n",
       "CB        77.104151    159.049302          0  \n",
       "CC         0.688801      0.263994          0  \n",
       "CD        90.251735     51.585130          0  \n",
       "CF        11.241064     13.571133          0  \n",
       "CH         0.030615      0.014808          0  \n",
       "CL         1.403761      1.922210          0  \n",
       "CR         0.742262      0.281195          0  \n",
       "CS        36.917590     17.266347          0  \n",
       "CU         1.383792      0.538717          0  \n",
       "CW        27.165653     14.645993          0  \n",
       "DA        51.128326     21.210888          0  \n",
       "DE       401.901299    317.745623          0  \n",
       "DF         0.633884      1.912384          0  \n",
       "DH         0.367002      0.112989          0  \n",
       "DI       146.972099     86.084419          0  \n",
       "DL        94.795377     28.243187          0  \n",
       "DN        26.370568      8.038825          0  \n",
       "DU         1.802900      9.034721          0  \n",
       "DV         1.924830      1.484555          0  \n",
       "DY        26.388989     18.116679          0  \n",
       "EB         9.072700      6.200281          0  \n",
       "EE         3.064778      2.058344          0  \n",
       "EG      1731.248215   1790.227476          0  \n",
       "EH         0.305107      1.847499          0  \n",
       "EJ              NaN           NaN          0  \n",
       "EL        69.582596     38.555707          0  \n",
       "EP       105.060712     68.445620          0  \n",
       "EU        69.117005    390.187057          0  \n",
       "FC        71.341526    165.551545          0  \n",
       "FD         6.930086     64.754262          0  \n",
       "FE     10306.810737  11331.294051          0  \n",
       "FI        10.111079      2.934025          0  \n",
       "FL         5.433199     11.496257          0  \n",
       "FR         3.533905     50.181948          0  \n",
       "FS         0.421501      1.305365          0  \n",
       "GB        20.724856      9.991907          0  \n",
       "GE       131.714987    144.181524          0  \n",
       "GF     14679.595398  19352.959387          0  \n",
       "GH        31.489716      9.864239          0  \n",
       "GI        50.584437     36.266251          0  \n",
       "GL         8.530961     10.327010          0  \n",
       "Class      0.175041      0.380310          0  "
      ]
     },
     "execution_count": 9,
     "metadata": {},
     "output_type": "execute_result"
    }
   ],
   "source": [
    "summary('train', df)"
   ]
  },
  {
   "cell_type": "code",
   "execution_count": 10,
   "id": "53605df7",
   "metadata": {
    "execution": {
     "iopub.execute_input": "2023-05-15T16:09:04.706763Z",
     "iopub.status.busy": "2023-05-15T16:09:04.706362Z",
     "iopub.status.idle": "2023-05-15T16:09:04.712505Z",
     "shell.execute_reply": "2023-05-15T16:09:04.711449Z"
    },
    "id": "0bbe9c99",
    "papermill": {
     "duration": 0.028412,
     "end_time": "2023-05-15T16:09:04.714760",
     "exception": false,
     "start_time": "2023-05-15T16:09:04.686348",
     "status": "completed"
    },
    "tags": []
   },
   "outputs": [],
   "source": [
    "#Replace null with means of the same columns\n",
    "def replace_null_with_mean(df):\n",
    "    fields = ['BQ','CB','CC','DU','EL','FC','FL','FS','GL']\n",
    "    for value in fields:\n",
    "        df.fillna(df[value].mean(),axis =1,inplace=True)\n",
    "    return df"
   ]
  },
  {
   "cell_type": "code",
   "execution_count": 11,
   "id": "869416b7",
   "metadata": {
    "execution": {
     "iopub.execute_input": "2023-05-15T16:09:04.754393Z",
     "iopub.status.busy": "2023-05-15T16:09:04.753742Z",
     "iopub.status.idle": "2023-05-15T16:09:05.160755Z",
     "shell.execute_reply": "2023-05-15T16:09:05.159806Z"
    },
    "id": "u-TBCq2EKq5d",
    "papermill": {
     "duration": 0.429468,
     "end_time": "2023-05-15T16:09:05.163247",
     "exception": false,
     "start_time": "2023-05-15T16:09:04.733779",
     "status": "completed"
    },
    "tags": []
   },
   "outputs": [],
   "source": [
    "train_non_nan = replace_null_with_mean(df)"
   ]
  },
  {
   "cell_type": "code",
   "execution_count": 12,
   "id": "96522907",
   "metadata": {
    "execution": {
     "iopub.execute_input": "2023-05-15T16:09:05.202844Z",
     "iopub.status.busy": "2023-05-15T16:09:05.202472Z",
     "iopub.status.idle": "2023-05-15T16:09:05.431307Z",
     "shell.execute_reply": "2023-05-15T16:09:05.430115Z"
    },
    "executionInfo": {
     "elapsed": 702,
     "status": "ok",
     "timestamp": 1684049666064,
     "user": {
      "displayName": "Fangyijie Wang",
      "userId": "07701241728904216961"
     },
     "user_tz": -60
    },
    "id": "d1cf560b",
    "outputId": "4ca53c50-b504-4413-8b87-13196d17de58",
    "papermill": {
     "duration": 0.251476,
     "end_time": "2023-05-15T16:09:05.433656",
     "exception": false,
     "start_time": "2023-05-15T16:09:05.182180",
     "status": "completed"
    },
    "tags": []
   },
   "outputs": [
    {
     "data": {
      "text/plain": [
       "<AxesSubplot: xlabel='Class', ylabel='count'>"
      ]
     },
     "execution_count": 12,
     "metadata": {},
     "output_type": "execute_result"
    },
    {
     "data": {
      "image/png": "[encoded data removed]",
      "text/plain": [
       "<Figure size 640x480 with 1 Axes>"
      ]
     },
     "metadata": {},
     "output_type": "display_data"
    }
   ],
   "source": [
    "#Count plot for the label class\n",
    "sns.countplot(train_non_nan,x='Class',color='grey')"
   ]
  },
  {
   "cell_type": "code",
   "execution_count": 13,
   "id": "63020d9f",
   "metadata": {
    "execution": {
     "iopub.execute_input": "2023-05-15T16:09:05.474507Z",
     "iopub.status.busy": "2023-05-15T16:09:05.474113Z",
     "iopub.status.idle": "2023-05-15T16:09:05.483070Z",
     "shell.execute_reply": "2023-05-15T16:09:05.482046Z"
    },
    "id": "38d08720",
    "papermill": {
     "duration": 0.032286,
     "end_time": "2023-05-15T16:09:05.485368",
     "exception": false,
     "start_time": "2023-05-15T16:09:05.453082",
     "status": "completed"
    },
    "tags": []
   },
   "outputs": [],
   "source": [
    "train_non_nan['EJ'] = train_non_nan['EJ'].astype('category')\n",
    "train = train_non_nan\n",
    "train['EJ'] = train['EJ'].cat.codes\n",
    "train = train.set_index('Id')"
   ]
  },
  {
   "cell_type": "code",
   "execution_count": 14,
   "id": "cc902ab6",
   "metadata": {
    "execution": {
     "iopub.execute_input": "2023-05-15T16:09:05.525874Z",
     "iopub.status.busy": "2023-05-15T16:09:05.525467Z",
     "iopub.status.idle": "2023-05-15T16:09:05.532640Z",
     "shell.execute_reply": "2023-05-15T16:09:05.531792Z"
    },
    "executionInfo": {
     "elapsed": 5,
     "status": "ok",
     "timestamp": 1684049990023,
     "user": {
      "displayName": "Fangyijie Wang",
      "userId": "07701241728904216961"
     },
     "user_tz": -60
    },
    "id": "EpHBXjBWMavx",
    "outputId": "6f71d3c4-a177-48dc-9bcb-d2834857538a",
    "papermill": {
     "duration": 0.029999,
     "end_time": "2023-05-15T16:09:05.534851",
     "exception": false,
     "start_time": "2023-05-15T16:09:05.504852",
     "status": "completed"
    },
    "tags": []
   },
   "outputs": [
    {
     "data": {
      "text/plain": [
       "Index(['AB', 'AF', 'AH', 'AM', 'AR', 'AX', 'AY', 'AZ', 'BC', 'BD ', 'BN', 'BP',\n",
       "       'BQ', 'BR', 'BZ', 'CB', 'CC', 'CD ', 'CF', 'CH', 'CL', 'CR', 'CS', 'CU',\n",
       "       'CW ', 'DA', 'DE', 'DF', 'DH', 'DI', 'DL', 'DN', 'DU', 'DV', 'DY', 'EB',\n",
       "       'EE', 'EG', 'EH', 'EJ', 'EL', 'EP', 'EU', 'FC', 'FD ', 'FE', 'FI', 'FL',\n",
       "       'FR', 'FS', 'GB', 'GE', 'GF', 'GH', 'GI', 'GL', 'Class'],\n",
       "      dtype='object')"
      ]
     },
     "execution_count": 14,
     "metadata": {},
     "output_type": "execute_result"
    }
   ],
   "source": [
    "train.columns"
   ]
  },
  {
   "cell_type": "code",
   "execution_count": 15,
   "id": "65732920",
   "metadata": {
    "execution": {
     "iopub.execute_input": "2023-05-15T16:09:05.576039Z",
     "iopub.status.busy": "2023-05-15T16:09:05.575673Z",
     "iopub.status.idle": "2023-05-15T16:09:05.584825Z",
     "shell.execute_reply": "2023-05-15T16:09:05.583683Z"
    },
    "id": "EUHTnBkY3CdX",
    "papermill": {
     "duration": 0.032707,
     "end_time": "2023-05-15T16:09:05.587124",
     "exception": false,
     "start_time": "2023-05-15T16:09:05.554417",
     "status": "completed"
    },
    "tags": []
   },
   "outputs": [],
   "source": [
    "#Creating the features and label classes\n",
    "y = train['Class']\n",
    "X = train.iloc[:,:-1]\n",
    "y = y.astype(float)\n",
    "X = X.astype(float)"
   ]
  },
  {
   "cell_type": "markdown",
   "id": "31375d6d",
   "metadata": {
    "id": "EEXrMloVNE9Q",
    "papermill": {
     "duration": 0.019169,
     "end_time": "2023-05-15T16:09:05.629734",
     "exception": false,
     "start_time": "2023-05-15T16:09:05.610565",
     "status": "completed"
    },
    "tags": []
   },
   "source": [
    "Data preprocessing of the features"
   ]
  },
  {
   "cell_type": "code",
   "execution_count": 16,
   "id": "7c2765d2",
   "metadata": {
    "execution": {
     "iopub.execute_input": "2023-05-15T16:09:05.670445Z",
     "iopub.status.busy": "2023-05-15T16:09:05.669896Z",
     "iopub.status.idle": "2023-05-15T16:09:05.676962Z",
     "shell.execute_reply": "2023-05-15T16:09:05.676134Z"
    },
    "id": "AwxEdNllNFam",
    "papermill": {
     "duration": 0.029852,
     "end_time": "2023-05-15T16:09:05.679035",
     "exception": false,
     "start_time": "2023-05-15T16:09:05.649183",
     "status": "completed"
    },
    "tags": []
   },
   "outputs": [],
   "source": [
    "sd_scaler = preprocessing.StandardScaler()\n",
    "features = sd_scaler.fit_transform(X.values)"
   ]
  },
  {
   "cell_type": "code",
   "execution_count": 17,
   "id": "ff0dcd28",
   "metadata": {
    "execution": {
     "iopub.execute_input": "2023-05-15T16:09:05.719946Z",
     "iopub.status.busy": "2023-05-15T16:09:05.719321Z",
     "iopub.status.idle": "2023-05-15T16:09:05.726090Z",
     "shell.execute_reply": "2023-05-15T16:09:05.725221Z"
    },
    "id": "08ddd7ad",
    "papermill": {
     "duration": 0.029832,
     "end_time": "2023-05-15T16:09:05.728375",
     "exception": false,
     "start_time": "2023-05-15T16:09:05.698543",
     "status": "completed"
    },
    "tags": []
   },
   "outputs": [],
   "source": [
    "X_train, X_test, y_train, y_test = train_test_split(features, y.to_numpy(), test_size=0.1, random_state=42)"
   ]
  },
  {
   "cell_type": "code",
   "execution_count": 18,
   "id": "85c9a608",
   "metadata": {
    "execution": {
     "iopub.execute_input": "2023-05-15T16:09:05.769478Z",
     "iopub.status.busy": "2023-05-15T16:09:05.768408Z",
     "iopub.status.idle": "2023-05-15T16:09:05.775397Z",
     "shell.execute_reply": "2023-05-15T16:09:05.774253Z"
    },
    "executionInfo": {
     "elapsed": 284,
     "status": "ok",
     "timestamp": 1684050251837,
     "user": {
      "displayName": "Fangyijie Wang",
      "userId": "07701241728904216961"
     },
     "user_tz": -60
    },
    "id": "d3171bd1",
    "outputId": "b8134537-7a8c-4bbf-a3bc-722f269a355a",
    "papermill": {
     "duration": 0.029808,
     "end_time": "2023-05-15T16:09:05.777555",
     "exception": false,
     "start_time": "2023-05-15T16:09:05.747747",
     "status": "completed"
    },
    "tags": []
   },
   "outputs": [
    {
     "name": "stdout",
     "output_type": "stream",
     "text": [
      "(555, 56)\n",
      "(62, 56)\n",
      "(555,)\n",
      "(62,)\n"
     ]
    }
   ],
   "source": [
    "print(X_train.shape)\n",
    "print(X_test.shape)\n",
    "print(y_train.shape)\n",
    "print(y_test.shape)"
   ]
  },
  {
   "cell_type": "code",
   "execution_count": 19,
   "id": "2a626d61",
   "metadata": {
    "execution": {
     "iopub.execute_input": "2023-05-15T16:09:05.819299Z",
     "iopub.status.busy": "2023-05-15T16:09:05.818369Z",
     "iopub.status.idle": "2023-05-15T16:09:05.824038Z",
     "shell.execute_reply": "2023-05-15T16:09:05.823260Z"
    },
    "id": "W5etqBjsN9h7",
    "papermill": {
     "duration": 0.02861,
     "end_time": "2023-05-15T16:09:05.826149",
     "exception": false,
     "start_time": "2023-05-15T16:09:05.797539",
     "status": "completed"
    },
    "tags": []
   },
   "outputs": [],
   "source": [
    "#Convert dataframes into torch tensors\n",
    "def convert_to_torch(value):\n",
    "  return torch.tensor(data=value,dtype=torch.float32,requires_grad=True)"
   ]
  },
  {
   "cell_type": "code",
   "execution_count": 20,
   "id": "b43ca183",
   "metadata": {
    "execution": {
     "iopub.execute_input": "2023-05-15T16:09:05.867244Z",
     "iopub.status.busy": "2023-05-15T16:09:05.866446Z",
     "iopub.status.idle": "2023-05-15T16:09:05.873088Z",
     "shell.execute_reply": "2023-05-15T16:09:05.872036Z"
    },
    "id": "GEwEuVpwOH8e",
    "papermill": {
     "duration": 0.029705,
     "end_time": "2023-05-15T16:09:05.875402",
     "exception": false,
     "start_time": "2023-05-15T16:09:05.845697",
     "status": "completed"
    },
    "tags": []
   },
   "outputs": [],
   "source": [
    "# Dataset class\n",
    "class ICRDataset(Dataset):\n",
    "  def __init__(self, X_data, y_data):\n",
    "    self.X_data = X_data\n",
    "    self.y_data = y_data\n",
    "\n",
    "  def __len__ (self):\n",
    "    return len(self.X_data)\n",
    "\n",
    "  def __getitem__(self, index):\n",
    "    return self.X_data[index], self.y_data[index]"
   ]
  },
  {
   "cell_type": "code",
   "execution_count": 21,
   "id": "301ed2b2",
   "metadata": {
    "execution": {
     "iopub.execute_input": "2023-05-15T16:09:05.916853Z",
     "iopub.status.busy": "2023-05-15T16:09:05.916463Z",
     "iopub.status.idle": "2023-05-15T16:09:05.963485Z",
     "shell.execute_reply": "2023-05-15T16:09:05.962497Z"
    },
    "id": "ooBeEx0DOfT9",
    "papermill": {
     "duration": 0.071154,
     "end_time": "2023-05-15T16:09:05.966275",
     "exception": false,
     "start_time": "2023-05-15T16:09:05.895121",
     "status": "completed"
    },
    "tags": []
   },
   "outputs": [],
   "source": [
    "X_data = convert_to_torch(X_train)\n",
    "y_data = convert_to_torch(y_train).type(torch.LongTensor)\n",
    "X_val = convert_to_torch(X_test)\n",
    "y_val = convert_to_torch(y_test).type(torch.LongTensor)"
   ]
  },
  {
   "cell_type": "code",
   "execution_count": 22,
   "id": "c5a31a9a",
   "metadata": {
    "execution": {
     "iopub.execute_input": "2023-05-15T16:09:06.007956Z",
     "iopub.status.busy": "2023-05-15T16:09:06.007566Z",
     "iopub.status.idle": "2023-05-15T16:09:06.013036Z",
     "shell.execute_reply": "2023-05-15T16:09:06.011926Z"
    },
    "id": "qrYNSDBMOmOO",
    "papermill": {
     "duration": 0.028995,
     "end_time": "2023-05-15T16:09:06.015304",
     "exception": false,
     "start_time": "2023-05-15T16:09:05.986309",
     "status": "completed"
    },
    "tags": []
   },
   "outputs": [],
   "source": [
    "train_dataset = ICRDataset(X_data,y_data)\n",
    "val_dataset = ICRDataset(X_val,y_val)"
   ]
  },
  {
   "cell_type": "code",
   "execution_count": 23,
   "id": "96e36889",
   "metadata": {
    "execution": {
     "iopub.execute_input": "2023-05-15T16:09:06.057759Z",
     "iopub.status.busy": "2023-05-15T16:09:06.056756Z",
     "iopub.status.idle": "2023-05-15T16:09:06.062038Z",
     "shell.execute_reply": "2023-05-15T16:09:06.060989Z"
    },
    "id": "c573e50c",
    "papermill": {
     "duration": 0.029016,
     "end_time": "2023-05-15T16:09:06.064422",
     "exception": false,
     "start_time": "2023-05-15T16:09:06.035406",
     "status": "completed"
    },
    "tags": []
   },
   "outputs": [],
   "source": [
    "# Load dataloaders\n",
    "BATCH_SIZE = 8\n",
    "NUM_WORKERS = os.cpu_count()\n",
    "#NUM_WORKERS = 2"
   ]
  },
  {
   "cell_type": "code",
   "execution_count": 24,
   "id": "bee9da81",
   "metadata": {
    "execution": {
     "iopub.execute_input": "2023-05-15T16:09:06.106138Z",
     "iopub.status.busy": "2023-05-15T16:09:06.105733Z",
     "iopub.status.idle": "2023-05-15T16:09:06.111644Z",
     "shell.execute_reply": "2023-05-15T16:09:06.110617Z"
    },
    "id": "a11f9e9a",
    "papermill": {
     "duration": 0.029261,
     "end_time": "2023-05-15T16:09:06.114055",
     "exception": false,
     "start_time": "2023-05-15T16:09:06.084794",
     "status": "completed"
    },
    "tags": []
   },
   "outputs": [],
   "source": [
    "train_dataloader = DataLoader(\n",
    "    dataset=train_dataset, \n",
    "    batch_size=BATCH_SIZE,\n",
    "    #num_workers=NUM_WORKERS,\n",
    "    shuffle=True\n",
    ")\n",
    "\n",
    "val_dataloader = DataLoader(\n",
    "    dataset=val_dataset, \n",
    "    batch_size=BATCH_SIZE,\n",
    "    #num_workers=NUM_WORKERS,\n",
    "    shuffle=False\n",
    ")"
   ]
  },
  {
   "cell_type": "markdown",
   "id": "48938e9a",
   "metadata": {
    "id": "03d89e78",
    "papermill": {
     "duration": 0.019236,
     "end_time": "2023-05-15T16:09:06.153115",
     "exception": false,
     "start_time": "2023-05-15T16:09:06.133879",
     "status": "completed"
    },
    "tags": []
   },
   "source": [
    "## Model Builder"
   ]
  },
  {
   "cell_type": "code",
   "execution_count": 25,
   "id": "82e0b4c5",
   "metadata": {
    "execution": {
     "iopub.execute_input": "2023-05-15T16:09:06.195088Z",
     "iopub.status.busy": "2023-05-15T16:09:06.194411Z",
     "iopub.status.idle": "2023-05-15T16:09:06.205035Z",
     "shell.execute_reply": "2023-05-15T16:09:06.204275Z"
    },
    "id": "6pdMD5JxPRcm",
    "papermill": {
     "duration": 0.033849,
     "end_time": "2023-05-15T16:09:06.207240",
     "exception": false,
     "start_time": "2023-05-15T16:09:06.173391",
     "status": "completed"
    },
    "tags": []
   },
   "outputs": [],
   "source": [
    "class FeedForwardNet(nn.Module):\n",
    "  def __init__(self, input_features, n_classes):\n",
    "    super().__init__()\n",
    "    self.layer1 = nn.Sequential(\n",
    "        nn.Linear(input_features,256),\n",
    "        nn.LeakyReLU(negative_slope=0.1),\n",
    "        nn.Dropout(p=0.5)\n",
    "    )\n",
    "    self.layer2 = nn.Sequential(\n",
    "        nn.Linear(256,512),\n",
    "        nn.LeakyReLU(negative_slope=0.1),\n",
    "        nn.Dropout(p=0.5),\n",
    "    )\n",
    "    self.layer3 = nn.Sequential(\n",
    "        nn.Linear(512,64),\n",
    "        nn.LeakyReLU(negative_slope=0.1),\n",
    "        nn.Dropout(p=0.5),\n",
    "    )\n",
    "    self.layer4 = nn.Sequential(\n",
    "        nn.Linear(64,64),\n",
    "        nn.LeakyReLU(negative_slope=0.1),\n",
    "    )    \n",
    "    self.classifier = nn.Linear(in_features=64, out_features=n_classes)\n",
    "\n",
    "  def forward(self, x):\n",
    "    x = self.layer1(x)\n",
    "    x = self.layer2(x)\n",
    "    x = self.layer3(x)\n",
    "    x = self.layer4(x)\n",
    "\n",
    "    logits = self.classifier(x)\n",
    "    #probs = F.softmax(logits, dim=1)\n",
    "    #probs = F.sigmoid(logits)\n",
    "\n",
    "    return logits"
   ]
  },
  {
   "cell_type": "code",
   "execution_count": 26,
   "id": "609a44f7",
   "metadata": {
    "execution": {
     "iopub.execute_input": "2023-05-15T16:09:06.249700Z",
     "iopub.status.busy": "2023-05-15T16:09:06.249297Z",
     "iopub.status.idle": "2023-05-15T16:09:06.253089Z",
     "shell.execute_reply": "2023-05-15T16:09:06.252309Z"
    },
    "id": "bba32af8",
    "papermill": {
     "duration": 0.02821,
     "end_time": "2023-05-15T16:09:06.255564",
     "exception": false,
     "start_time": "2023-05-15T16:09:06.227354",
     "status": "completed"
    },
    "tags": []
   },
   "outputs": [],
   "source": [
    "#from torchsummary import summary"
   ]
  },
  {
   "cell_type": "code",
   "execution_count": 27,
   "id": "ea2bf419",
   "metadata": {
    "execution": {
     "iopub.execute_input": "2023-05-15T16:09:06.297014Z",
     "iopub.status.busy": "2023-05-15T16:09:06.296616Z",
     "iopub.status.idle": "2023-05-15T16:09:06.302467Z",
     "shell.execute_reply": "2023-05-15T16:09:06.301359Z"
    },
    "id": "7062426c",
    "papermill": {
     "duration": 0.02909,
     "end_time": "2023-05-15T16:09:06.304759",
     "exception": false,
     "start_time": "2023-05-15T16:09:06.275669",
     "status": "completed"
    },
    "tags": []
   },
   "outputs": [],
   "source": [
    "num_class = len(np.unique(df.Class))\n",
    "input_features = X_train.shape[1]"
   ]
  },
  {
   "cell_type": "code",
   "execution_count": 28,
   "id": "d2507135",
   "metadata": {
    "execution": {
     "iopub.execute_input": "2023-05-15T16:09:06.345804Z",
     "iopub.status.busy": "2023-05-15T16:09:06.345091Z",
     "iopub.status.idle": "2023-05-15T16:09:06.370182Z",
     "shell.execute_reply": "2023-05-15T16:09:06.369303Z"
    },
    "id": "961c042d",
    "papermill": {
     "duration": 0.048466,
     "end_time": "2023-05-15T16:09:06.372789",
     "exception": false,
     "start_time": "2023-05-15T16:09:06.324323",
     "status": "completed"
    },
    "tags": []
   },
   "outputs": [],
   "source": [
    "#model_LeCun = LeCunNet(num_class).to(DEVICE)\n",
    "model_FF = FeedForwardNet(input_features,num_class).to(DEVICE)"
   ]
  },
  {
   "cell_type": "code",
   "execution_count": 29,
   "id": "06e5b43f",
   "metadata": {
    "execution": {
     "iopub.execute_input": "2023-05-15T16:09:06.414874Z",
     "iopub.status.busy": "2023-05-15T16:09:06.414112Z",
     "iopub.status.idle": "2023-05-15T16:09:06.419654Z",
     "shell.execute_reply": "2023-05-15T16:09:06.418321Z"
    },
    "executionInfo": {
     "elapsed": 5,
     "status": "ok",
     "timestamp": 1684052857137,
     "user": {
      "displayName": "Fangyijie Wang",
      "userId": "07701241728904216961"
     },
     "user_tz": -60
    },
    "id": "6c74e7fe",
    "outputId": "7f2ece21-202c-4517-d45f-bbe1a86e11fa",
    "papermill": {
     "duration": 0.028804,
     "end_time": "2023-05-15T16:09:06.421923",
     "exception": false,
     "start_time": "2023-05-15T16:09:06.393119",
     "status": "completed"
    },
    "tags": []
   },
   "outputs": [
    {
     "name": "stdout",
     "output_type": "stream",
     "text": [
      "FeedForwardNet(\n",
      "  (layer1): Sequential(\n",
      "    (0): Linear(in_features=56, out_features=256, bias=True)\n",
      "    (1): LeakyReLU(negative_slope=0.1)\n",
      "    (2): Dropout(p=0.5, inplace=False)\n",
      "  )\n",
      "  (layer2): Sequential(\n",
      "    (0): Linear(in_features=256, out_features=512, bias=True)\n",
      "    (1): LeakyReLU(negative_slope=0.1)\n",
      "    (2): Dropout(p=0.5, inplace=False)\n",
      "  )\n",
      "  (layer3): Sequential(\n",
      "    (0): Linear(in_features=512, out_features=64, bias=True)\n",
      "    (1): LeakyReLU(negative_slope=0.1)\n",
      "    (2): Dropout(p=0.5, inplace=False)\n",
      "  )\n",
      "  (layer4): Sequential(\n",
      "    (0): Linear(in_features=64, out_features=64, bias=True)\n",
      "    (1): LeakyReLU(negative_slope=0.1)\n",
      "  )\n",
      "  (classifier): Linear(in_features=64, out_features=2, bias=True)\n",
      ")\n"
     ]
    }
   ],
   "source": [
    "# Check model structure and parameters\n",
    "#print(summary(model_LeCun, (1, 56, 56)))\n",
    "#print(summary(model_FF, (1, 56, 56)))\n",
    "print(model_FF)"
   ]
  },
  {
   "cell_type": "code",
   "execution_count": 30,
   "id": "a558bcc6",
   "metadata": {
    "execution": {
     "iopub.execute_input": "2023-05-15T16:09:06.462773Z",
     "iopub.status.busy": "2023-05-15T16:09:06.462311Z",
     "iopub.status.idle": "2023-05-15T16:09:06.468203Z",
     "shell.execute_reply": "2023-05-15T16:09:06.467159Z"
    },
    "id": "CkDyjBoqUQ-u",
    "papermill": {
     "duration": 0.029085,
     "end_time": "2023-05-15T16:09:06.470595",
     "exception": false,
     "start_time": "2023-05-15T16:09:06.441510",
     "status": "completed"
    },
    "tags": []
   },
   "outputs": [],
   "source": [
    "def accuracy(outputs, labels):\n",
    "  _, preds = torch.max(outputs, dim=1)\n",
    "  return torch.tensor(torch.sum(preds == labels).item() / len(preds))"
   ]
  },
  {
   "cell_type": "markdown",
   "id": "53b59534",
   "metadata": {
    "id": "6jSuC-N6MLjV",
    "papermill": {
     "duration": 0.019634,
     "end_time": "2023-05-15T16:09:06.510335",
     "exception": false,
     "start_time": "2023-05-15T16:09:06.490701",
     "status": "completed"
    },
    "tags": []
   },
   "source": [
    "## Start Training"
   ]
  },
  {
   "cell_type": "code",
   "execution_count": 31,
   "id": "2cc4f1e5",
   "metadata": {
    "execution": {
     "iopub.execute_input": "2023-05-15T16:09:06.551497Z",
     "iopub.status.busy": "2023-05-15T16:09:06.551073Z",
     "iopub.status.idle": "2023-05-15T16:09:06.556771Z",
     "shell.execute_reply": "2023-05-15T16:09:06.555628Z"
    },
    "id": "cf6afe8c",
    "papermill": {
     "duration": 0.02892,
     "end_time": "2023-05-15T16:09:06.558989",
     "exception": false,
     "start_time": "2023-05-15T16:09:06.530069",
     "status": "completed"
    },
    "tags": []
   },
   "outputs": [],
   "source": [
    "# Hyperparameters etc.\n",
    "LEARNING_RATE = 1e-4\n",
    "DEVICE = \"cuda\" if torch.cuda.is_available() else \"cpu\"\n",
    "NUM_EPOCHS = 15 # 5 warm-up\n",
    "\n",
    "PIN_MEMORY = True\n",
    "LOAD_MODEL = False"
   ]
  },
  {
   "cell_type": "code",
   "execution_count": 32,
   "id": "c89d2772",
   "metadata": {
    "execution": {
     "iopub.execute_input": "2023-05-15T16:09:06.601589Z",
     "iopub.status.busy": "2023-05-15T16:09:06.600900Z",
     "iopub.status.idle": "2023-05-15T16:09:06.610674Z",
     "shell.execute_reply": "2023-05-15T16:09:06.609349Z"
    },
    "executionInfo": {
     "elapsed": 234,
     "status": "ok",
     "timestamp": 1684052865809,
     "user": {
      "displayName": "Fangyijie Wang",
      "userId": "07701241728904216961"
     },
     "user_tz": -60
    },
    "id": "uWdV4L9vMllN",
    "outputId": "da38c99e-b460-4327-8b50-094b0d62943b",
    "papermill": {
     "duration": 0.034044,
     "end_time": "2023-05-15T16:09:06.613144",
     "exception": false,
     "start_time": "2023-05-15T16:09:06.579100",
     "status": "completed"
    },
    "tags": []
   },
   "outputs": [
    {
     "name": "stderr",
     "output_type": "stream",
     "text": [
      "/opt/conda/lib/python3.10/site-packages/torch/cuda/amp/grad_scaler.py:120: UserWarning: torch.cuda.amp.GradScaler is enabled, but CUDA is not available.  Disabling.\n",
      "  warnings.warn(\"torch.cuda.amp.GradScaler is enabled, but CUDA is not available.  Disabling.\")\n"
     ]
    }
   ],
   "source": [
    "#model = model_LeCun.to(DEVICE)\n",
    "model = model_FF.to(DEVICE)\n",
    "loss_fn = nn.CrossEntropyLoss()\n",
    "optimizer = optim.Adam(model.parameters(), lr=LEARNING_RATE)\n",
    "scaler = torch.cuda.amp.GradScaler()"
   ]
  },
  {
   "cell_type": "code",
   "execution_count": 33,
   "id": "e1f4146d",
   "metadata": {
    "execution": {
     "iopub.execute_input": "2023-05-15T16:09:06.655571Z",
     "iopub.status.busy": "2023-05-15T16:09:06.655128Z",
     "iopub.status.idle": "2023-05-15T16:09:06.660048Z",
     "shell.execute_reply": "2023-05-15T16:09:06.658962Z"
    },
    "id": "8hgu8TsXJ64q",
    "papermill": {
     "duration": 0.028252,
     "end_time": "2023-05-15T16:09:06.662150",
     "exception": false,
     "start_time": "2023-05-15T16:09:06.633898",
     "status": "completed"
    },
    "tags": []
   },
   "outputs": [],
   "source": [
    "from tqdm import tqdm\n",
    "from typing import Tuple, Dict, List"
   ]
  },
  {
   "cell_type": "code",
   "execution_count": 34,
   "id": "78e73aab",
   "metadata": {
    "execution": {
     "iopub.execute_input": "2023-05-15T16:09:06.703785Z",
     "iopub.status.busy": "2023-05-15T16:09:06.703132Z",
     "iopub.status.idle": "2023-05-15T16:09:06.794351Z",
     "shell.execute_reply": "2023-05-15T16:09:06.793125Z"
    },
    "executionInfo": {
     "elapsed": 5,
     "status": "ok",
     "timestamp": 1684057870797,
     "user": {
      "displayName": "Fangyijie Wang",
      "userId": "07701241728904216961"
     },
     "user_tz": -60
    },
    "id": "_RGH_bMTV6tk",
    "outputId": "641eb4ae-0b1a-4cd7-bf60-f7006c9c6c47",
    "papermill": {
     "duration": 0.115145,
     "end_time": "2023-05-15T16:09:06.796971",
     "exception": false,
     "start_time": "2023-05-15T16:09:06.681826",
     "status": "completed"
    },
    "tags": []
   },
   "outputs": [
    {
     "name": "stdout",
     "output_type": "stream",
     "text": [
      "4.402580738067627 1.0\n"
     ]
    }
   ],
   "source": [
    "for X, y in train_dataloader:\n",
    "  y_pred = model(X)\n",
    "  loss = F.cross_entropy(X,y)\n",
    "  acc = accuracy(y_pred, y)\n",
    "  print(loss.item(), acc.item())\n",
    "  break"
   ]
  },
  {
   "cell_type": "code",
   "execution_count": 35,
   "id": "87b99469",
   "metadata": {
    "execution": {
     "iopub.execute_input": "2023-05-15T16:09:06.839007Z",
     "iopub.status.busy": "2023-05-15T16:09:06.838245Z",
     "iopub.status.idle": "2023-05-15T16:09:06.854843Z",
     "shell.execute_reply": "2023-05-15T16:09:06.853946Z"
    },
    "id": "E2Of2QAmJ6-F",
    "papermill": {
     "duration": 0.040287,
     "end_time": "2023-05-15T16:09:06.857303",
     "exception": false,
     "start_time": "2023-05-15T16:09:06.817016",
     "status": "completed"
    },
    "tags": []
   },
   "outputs": [],
   "source": [
    "def train_func(model, \n",
    "               train_dataloader, \n",
    "               valid_dataloader, \n",
    "               optimizer,\n",
    "               loss_fn,\n",
    "               epochs,\n",
    "               device='cpu') -> Dict[str, List[float]]:\n",
    "    \n",
    "    # Create empty results dictionary\n",
    "    results = {\n",
    "        \"train_loss\": [],\n",
    "        \"train_acc\": [],\n",
    "        \"valid_loss\": [],\n",
    "        \"valid_acc\": []\n",
    "    }\n",
    "\n",
    "    # Loop through training and validation steps for a number of epochs\n",
    "    for epoch in tqdm(range(epochs)):\n",
    "      # Put model in train mode\n",
    "      model.train()\n",
    "    \n",
    "      # Setup train loss and train accuracy values\n",
    "      train_loss, train_acc = 0, 0\n",
    "    \n",
    "      # Loop through data loader data batches\n",
    "      for X, y in train_dataloader:\n",
    "        # Send data to target device\n",
    "        X, y = X.to(device), y.to(device)\n",
    "\n",
    "        # 1. Forward pass\n",
    "        y_pred = model(X)\n",
    "\n",
    "        # 2. Calculate  and accumulate loss\n",
    "        loss = loss_fn(y_pred, y)\n",
    "        train_loss += loss.item() \n",
    "\n",
    "        # 3. Optimizer zero grad\n",
    "        optimizer.zero_grad()\n",
    "\n",
    "        # 4. Loss backward\n",
    "        loss.backward()\n",
    "\n",
    "        # 5. Optimizer step\n",
    "        optimizer.step()\n",
    "\n",
    "        # Calculate and accumulate accuracy metric across all batches\n",
    "        #train_acc += (y_pred_class == y[:,1].type(torch.int64)).sum().item()/len(y_pred)\n",
    "        train_acc += accuracy(y_pred, y).item()\n",
    "\n",
    "      # Adjust metrics to get average loss and accuracy per batch \n",
    "      train_loss = train_loss / len(train_dataloader)\n",
    "      train_acc = train_acc / len(train_dataloader)\n",
    "\n",
    "      # Put model in eval mode\n",
    "      model.eval() \n",
    "      valid_pred = []\n",
    "      valid_true = []\n",
    "  \n",
    "      # Setup valid loss and valid accuracy values\n",
    "      valid_loss, valid_acc = 0, 0\n",
    "  \n",
    "      # Turn on inference context manager\n",
    "      with torch.inference_mode():\n",
    "        # Loop through DataLoader batches\n",
    "        for X, y in valid_dataloader:\n",
    "          # Send data to target device\n",
    "          X, y = X.to(device), y.to(device)\n",
    "\n",
    "          # 1. Forward pass\n",
    "          valid_pred_logits = model(X)\n",
    "\n",
    "          # 2. Calculate and accumulate loss\n",
    "          loss = loss_fn(valid_pred_logits, y)\n",
    "          valid_loss += loss.item()\n",
    "\n",
    "          # Calculate and accumulate accuracy\n",
    "          #valid_pred_labels = valid_pred_logits.type(torch.int64)\n",
    "          #valid_pred_labels = torch.argmax(torch.softmax(valid_pred_logits, dim=1), dim=1)\n",
    "          #valid_pred.extend(valid_pred_labels)\n",
    "          \n",
    "          #y = y[:,1].type(torch.int64)\n",
    "\n",
    "          #valid_acc += ((valid_pred_labels == y).sum().item()/len(valid_pred_labels))\n",
    "          valid_acc += accuracy(valid_pred_logits, y).item()\n",
    "\n",
    "          valid_true.extend(y)\n",
    "          \n",
    "      # Adjust metrics to get average loss and accuracy per batch \n",
    "      valid_loss = valid_loss / len(valid_dataloader)\n",
    "      valid_acc = valid_acc / len(valid_dataloader)    \n",
    "\n",
    "      # Print out what's happening\n",
    "      print(f\"Epoch: {epoch+1} | \",\n",
    "            f\"train_loss: {train_loss:.4f} | \",\n",
    "            f\"train_acc: {train_acc:.4f} | \",\n",
    "            f\"valid_loss: {valid_loss:.4f} | \",\n",
    "            f\"valid_acc: {valid_acc:.4f}\"\n",
    "            )\n",
    "\n",
    "      # Update results dictionary\n",
    "      results[\"train_loss\"].append(train_loss)\n",
    "      results[\"train_acc\"].append(train_acc)\n",
    "      results[\"valid_loss\"].append(valid_loss)\n",
    "      results[\"valid_acc\"].append(valid_acc)\n",
    "\n",
    "    # Return the filled results at the end of the epochs\n",
    "    return results, valid_true, valid_pred"
   ]
  },
  {
   "cell_type": "code",
   "execution_count": 36,
   "id": "a20f0ba4",
   "metadata": {
    "execution": {
     "iopub.execute_input": "2023-05-15T16:09:06.898817Z",
     "iopub.status.busy": "2023-05-15T16:09:06.898053Z",
     "iopub.status.idle": "2023-05-15T16:09:09.942697Z",
     "shell.execute_reply": "2023-05-15T16:09:09.941293Z"
    },
    "executionInfo": {
     "elapsed": 752,
     "status": "ok",
     "timestamp": 1684054794040,
     "user": {
      "displayName": "Fangyijie Wang",
      "userId": "07701241728904216961"
     },
     "user_tz": -60
    },
    "id": "XCTFnRLzyBPm",
    "outputId": "37d2ed09-cc44-4e3e-e80a-1d418cd7f0c0",
    "papermill": {
     "duration": 3.068376,
     "end_time": "2023-05-15T16:09:09.945350",
     "exception": false,
     "start_time": "2023-05-15T16:09:06.876974",
     "status": "completed"
    },
    "tags": []
   },
   "outputs": [
    {
     "name": "stderr",
     "output_type": "stream",
     "text": [
      " 13%|█▎        | 2/15 [00:00<00:02,  4.62it/s]"
     ]
    },
    {
     "name": "stdout",
     "output_type": "stream",
     "text": [
      "Epoch: 1 |  train_loss: 0.6279 |  train_acc: 0.8286 |  valid_loss: 0.6051 |  valid_acc: 0.7969\n",
      "Epoch: 2 |  train_loss: 0.5473 |  train_acc: 0.8274 |  valid_loss: 0.5372 |  valid_acc: 0.7969\n"
     ]
    },
    {
     "name": "stderr",
     "output_type": "stream",
     "text": [
      " 27%|██▋       | 4/15 [00:00<00:02,  4.88it/s]"
     ]
    },
    {
     "name": "stdout",
     "output_type": "stream",
     "text": [
      "Epoch: 3 |  train_loss: 0.4843 |  train_acc: 0.8304 |  valid_loss: 0.4936 |  valid_acc: 0.7969\n",
      "Epoch: 4 |  train_loss: 0.4415 |  train_acc: 0.8304 |  valid_loss: 0.4638 |  valid_acc: 0.7969\n"
     ]
    },
    {
     "name": "stderr",
     "output_type": "stream",
     "text": [
      " 40%|████      | 6/15 [00:01<00:01,  5.06it/s]"
     ]
    },
    {
     "name": "stdout",
     "output_type": "stream",
     "text": [
      "Epoch: 5 |  train_loss: 0.4216 |  train_acc: 0.8244 |  valid_loss: 0.4388 |  valid_acc: 0.7969\n",
      "Epoch: 6 |  train_loss: 0.3825 |  train_acc: 0.8304 |  valid_loss: 0.4182 |  valid_acc: 0.7969\n"
     ]
    },
    {
     "name": "stderr",
     "output_type": "stream",
     "text": [
      " 47%|████▋     | 7/15 [00:01<00:01,  5.05it/s]"
     ]
    },
    {
     "name": "stdout",
     "output_type": "stream",
     "text": [
      "Epoch: 7 |  train_loss: 0.3705 |  train_acc: 0.8244 |  valid_loss: 0.3959 |  valid_acc: 0.8125\n"
     ]
    },
    {
     "name": "stderr",
     "output_type": "stream",
     "text": [
      " 60%|██████    | 9/15 [00:01<00:01,  4.82it/s]"
     ]
    },
    {
     "name": "stdout",
     "output_type": "stream",
     "text": [
      "Epoch: 8 |  train_loss: 0.3298 |  train_acc: 0.8393 |  valid_loss: 0.3765 |  valid_acc: 0.8750\n",
      "Epoch: 9 |  train_loss: 0.3160 |  train_acc: 0.8679 |  valid_loss: 0.3478 |  valid_acc: 0.8594\n"
     ]
    },
    {
     "name": "stderr",
     "output_type": "stream",
     "text": [
      " 73%|███████▎  | 11/15 [00:02<00:00,  4.97it/s]"
     ]
    },
    {
     "name": "stdout",
     "output_type": "stream",
     "text": [
      "Epoch: 10 |  train_loss: 0.2856 |  train_acc: 0.8768 |  valid_loss: 0.3364 |  valid_acc: 0.8594\n",
      "Epoch: 11 |  train_loss: 0.2824 |  train_acc: 0.8845 |  valid_loss: 0.3207 |  valid_acc: 0.8594\n"
     ]
    },
    {
     "name": "stderr",
     "output_type": "stream",
     "text": [
      " 87%|████████▋ | 13/15 [00:02<00:00,  5.05it/s]"
     ]
    },
    {
     "name": "stdout",
     "output_type": "stream",
     "text": [
      "Epoch: 12 |  train_loss: 0.2568 |  train_acc: 0.9089 |  valid_loss: 0.3184 |  valid_acc: 0.8542\n",
      "Epoch: 13 |  train_loss: 0.2449 |  train_acc: 0.9071 |  valid_loss: 0.3145 |  valid_acc: 0.8542\n"
     ]
    },
    {
     "name": "stderr",
     "output_type": "stream",
     "text": [
      "100%|██████████| 15/15 [00:03<00:00,  4.94it/s]"
     ]
    },
    {
     "name": "stdout",
     "output_type": "stream",
     "text": [
      "Epoch: 14 |  train_loss: 0.2498 |  train_acc: 0.9089 |  valid_loss: 0.3203 |  valid_acc: 0.8542\n",
      "Epoch: 15 |  train_loss: 0.2365 |  train_acc: 0.9131 |  valid_loss: 0.3235 |  valid_acc: 0.8542\n"
     ]
    },
    {
     "name": "stderr",
     "output_type": "stream",
     "text": [
      "\n"
     ]
    }
   ],
   "source": [
    "# start training\n",
    "results, y_true, y_pred = train_func(model = model, \n",
    "                                     train_dataloader = train_dataloader, \n",
    "                                     valid_dataloader = val_dataloader, \n",
    "                                     optimizer = optimizer,\n",
    "                                     loss_fn = loss_fn,\n",
    "                                     epochs = NUM_EPOCHS,\n",
    "                                     device = DEVICE)"
   ]
  },
  {
   "cell_type": "markdown",
   "id": "be3e9fbb",
   "metadata": {
    "id": "NVyin9PJitgb",
    "papermill": {
     "duration": 0.021876,
     "end_time": "2023-05-15T16:09:09.990779",
     "exception": false,
     "start_time": "2023-05-15T16:09:09.968903",
     "status": "completed"
    },
    "tags": []
   },
   "source": [
    "Plotting the looses"
   ]
  },
  {
   "cell_type": "code",
   "execution_count": 37,
   "id": "881a36c4",
   "metadata": {
    "execution": {
     "iopub.execute_input": "2023-05-15T16:09:10.036731Z",
     "iopub.status.busy": "2023-05-15T16:09:10.036342Z",
     "iopub.status.idle": "2023-05-15T16:09:10.568927Z",
     "shell.execute_reply": "2023-05-15T16:09:10.567816Z"
    },
    "executionInfo": {
     "elapsed": 392,
     "status": "ok",
     "timestamp": 1684056149322,
     "user": {
      "displayName": "Fangyijie Wang",
      "userId": "07701241728904216961"
     },
     "user_tz": -60
    },
    "id": "wuM17prAijKF",
    "outputId": "ffdc7038-0067-45e5-dff6-4778b08d080a",
    "papermill": {
     "duration": 0.558724,
     "end_time": "2023-05-15T16:09:10.571663",
     "exception": false,
     "start_time": "2023-05-15T16:09:10.012939",
     "status": "completed"
    },
    "tags": []
   },
   "outputs": [
    {
     "data": {
      "text/plain": [
       "Text(0.5, 1.0, 'Loss vs. No. of epochs')"
      ]
     },
     "execution_count": 37,
     "metadata": {},
     "output_type": "execute_result"
    },
    {
     "data": {
      "image/png": "[encoded data removed]",
      "text/plain": [
       "<Figure size 640x480 with 1 Axes>"
      ]
     },
     "metadata": {},
     "output_type": "display_data"
    }
   ],
   "source": [
    "\"\"\" Plot the losses in each epoch\"\"\"\n",
    "train_losses = results.get('train_loss')\n",
    "val_losses = results.get('valid_loss')\n",
    "plt.plot(train_losses, '-bo')\n",
    "plt.plot(val_losses, '-ro')\n",
    "plt.xlabel('epoch')\n",
    "plt.ylabel('loss')\n",
    "plt.legend(['Training', 'Validation'])\n",
    "plt.title('Loss vs. No. of epochs')"
   ]
  },
  {
   "cell_type": "markdown",
   "id": "295439a3",
   "metadata": {
    "id": "gwMPDLUvjTBU",
    "papermill": {
     "duration": 0.02297,
     "end_time": "2023-05-15T16:09:10.617857",
     "exception": false,
     "start_time": "2023-05-15T16:09:10.594887",
     "status": "completed"
    },
    "tags": []
   },
   "source": [
    "Save the model"
   ]
  },
  {
   "cell_type": "code",
   "execution_count": 38,
   "id": "798ab563",
   "metadata": {
    "execution": {
     "iopub.execute_input": "2023-05-15T16:09:10.666789Z",
     "iopub.status.busy": "2023-05-15T16:09:10.666120Z",
     "iopub.status.idle": "2023-05-15T16:09:10.670983Z",
     "shell.execute_reply": "2023-05-15T16:09:10.670262Z"
    },
    "id": "S833yzjrijOK",
    "papermill": {
     "duration": 0.031958,
     "end_time": "2023-05-15T16:09:10.673036",
     "exception": false,
     "start_time": "2023-05-15T16:09:10.641078",
     "status": "completed"
    },
    "tags": []
   },
   "outputs": [],
   "source": [
    "#torch.save(model,'./ICRClassifier.pt')"
   ]
  },
  {
   "cell_type": "markdown",
   "id": "15224b11",
   "metadata": {
    "id": "Ji79SsaDjSNn",
    "papermill": {
     "duration": 0.022706,
     "end_time": "2023-05-15T16:09:10.718751",
     "exception": false,
     "start_time": "2023-05-15T16:09:10.696045",
     "status": "completed"
    },
    "tags": []
   },
   "source": [
    "Load the Model"
   ]
  },
  {
   "cell_type": "code",
   "execution_count": 39,
   "id": "db648765",
   "metadata": {
    "execution": {
     "iopub.execute_input": "2023-05-15T16:09:10.767645Z",
     "iopub.status.busy": "2023-05-15T16:09:10.766966Z",
     "iopub.status.idle": "2023-05-15T16:09:10.774621Z",
     "shell.execute_reply": "2023-05-15T16:09:10.773555Z"
    },
    "executionInfo": {
     "elapsed": 217,
     "status": "ok",
     "timestamp": 1684057319599,
     "user": {
      "displayName": "Fangyijie Wang",
      "userId": "07701241728904216961"
     },
     "user_tz": -60
    },
    "id": "bs2HecbMijQk",
    "outputId": "c6b15b70-686a-488b-ea40-bd61707180de",
    "papermill": {
     "duration": 0.03451,
     "end_time": "2023-05-15T16:09:10.776716",
     "exception": false,
     "start_time": "2023-05-15T16:09:10.742206",
     "status": "completed"
    },
    "tags": []
   },
   "outputs": [
    {
     "data": {
      "text/plain": [
       "FeedForwardNet(\n",
       "  (layer1): Sequential(\n",
       "    (0): Linear(in_features=56, out_features=256, bias=True)\n",
       "    (1): LeakyReLU(negative_slope=0.1)\n",
       "    (2): Dropout(p=0.5, inplace=False)\n",
       "  )\n",
       "  (layer2): Sequential(\n",
       "    (0): Linear(in_features=256, out_features=512, bias=True)\n",
       "    (1): LeakyReLU(negative_slope=0.1)\n",
       "    (2): Dropout(p=0.5, inplace=False)\n",
       "  )\n",
       "  (layer3): Sequential(\n",
       "    (0): Linear(in_features=512, out_features=64, bias=True)\n",
       "    (1): LeakyReLU(negative_slope=0.1)\n",
       "    (2): Dropout(p=0.5, inplace=False)\n",
       "  )\n",
       "  (layer4): Sequential(\n",
       "    (0): Linear(in_features=64, out_features=64, bias=True)\n",
       "    (1): LeakyReLU(negative_slope=0.1)\n",
       "  )\n",
       "  (classifier): Linear(in_features=64, out_features=2, bias=True)\n",
       ")"
      ]
     },
     "execution_count": 39,
     "metadata": {},
     "output_type": "execute_result"
    }
   ],
   "source": [
    "#model_test = torch.load('./ICRClassifier.pt')\n",
    "model_test = model\n",
    "model_test.to(DEVICE)"
   ]
  },
  {
   "cell_type": "markdown",
   "id": "abf4f0e9",
   "metadata": {
    "id": "5PY-v6IKlDc5",
    "papermill": {
     "duration": 0.02284,
     "end_time": "2023-05-15T16:09:10.822783",
     "exception": false,
     "start_time": "2023-05-15T16:09:10.799943",
     "status": "completed"
    },
    "tags": []
   },
   "source": [
    "Test Model on Testset"
   ]
  },
  {
   "cell_type": "code",
   "execution_count": 40,
   "id": "1039b378",
   "metadata": {
    "execution": {
     "iopub.execute_input": "2023-05-15T16:09:10.871046Z",
     "iopub.status.busy": "2023-05-15T16:09:10.870304Z",
     "iopub.status.idle": "2023-05-15T16:09:10.876741Z",
     "shell.execute_reply": "2023-05-15T16:09:10.875937Z"
    },
    "executionInfo": {
     "elapsed": 234,
     "status": "ok",
     "timestamp": 1684057322058,
     "user": {
      "displayName": "Fangyijie Wang",
      "userId": "07701241728904216961"
     },
     "user_tz": -60
    },
    "id": "I3XqJz1KojJ8",
    "papermill": {
     "duration": 0.033058,
     "end_time": "2023-05-15T16:09:10.878910",
     "exception": false,
     "start_time": "2023-05-15T16:09:10.845852",
     "status": "completed"
    },
    "tags": []
   },
   "outputs": [],
   "source": [
    "class ICRData_test(Dataset):\n",
    "  def __init__(self, X_test_data):\n",
    "    self.X_test_data = X_test_data\n",
    "  \n",
    "  def __getitem__(self, index):\n",
    "    return self.X_test_data[index]\n",
    "  \n",
    "  def __len__ (self):\n",
    "    return len(self.X_test_data)"
   ]
  },
  {
   "cell_type": "code",
   "execution_count": 41,
   "id": "8b3f4e2f",
   "metadata": {
    "execution": {
     "iopub.execute_input": "2023-05-15T16:09:10.928113Z",
     "iopub.status.busy": "2023-05-15T16:09:10.927081Z",
     "iopub.status.idle": "2023-05-15T16:09:10.939036Z",
     "shell.execute_reply": "2023-05-15T16:09:10.938277Z"
    },
    "executionInfo": {
     "elapsed": 1,
     "status": "ok",
     "timestamp": 1684057978006,
     "user": {
      "displayName": "Fangyijie Wang",
      "userId": "07701241728904216961"
     },
     "user_tz": -60
    },
    "id": "47Wl3K24li8o",
    "papermill": {
     "duration": 0.038963,
     "end_time": "2023-05-15T16:09:10.941549",
     "exception": false,
     "start_time": "2023-05-15T16:09:10.902586",
     "status": "completed"
    },
    "tags": []
   },
   "outputs": [],
   "source": [
    "def model_tester(model, testfile_path):\n",
    "  df = pd.read_csv(testfile_path)\n",
    "  test_df = df.set_index(\"Id\")\n",
    "  test_df['EJ'] = test_df['EJ'].astype('category').cat.codes\n",
    "  test = test_df\n",
    "  test['EJ'] = test['EJ'].astype(float)\n",
    "\n",
    "  scaler = preprocessing.StandardScaler()\n",
    "  num_cols = list(test.select_dtypes(include=['float']))\n",
    "  features = scaler.fit_transform(test.values)\n",
    "\n",
    "\n",
    "  testing_data = ICRData_test(convert_to_torch(features))\n",
    "  test_dataloader = DataLoader(testing_data, batch_size=1, shuffle=False)\n",
    "  \n",
    "  model.eval()\n",
    "  Ids = np.empty(shape=(len(test),), dtype=object)\n",
    "  Class_0 = np.empty(shape=(len(test),))\n",
    "  Class_1 = np.empty(shape=(len(test),))\n",
    "  \n",
    "  with torch.no_grad():\n",
    "      for i,features in tqdm(enumerate(test_dataloader)):\n",
    "          output = model(features)\n",
    "          probs=F.softmax(output, dim=1).squeeze().detach().cpu().numpy()   \n",
    "          Class_0[i] = probs[0]\n",
    "          Class_1[i] = probs[1]\n",
    "          print(test.index[i])\n",
    "          Ids[i] = test.index[i]\n",
    "          \n",
    "\n",
    "  submission = pd.DataFrame(data={\"Id\" : Ids, \"class_0\" : Class_0, \"class_1\" : Class_1})\n",
    "  print(\"Prediction Completed\")\n",
    "  return submission"
   ]
  },
  {
   "cell_type": "code",
   "execution_count": 42,
   "id": "dd68c5eb",
   "metadata": {
    "execution": {
     "iopub.execute_input": "2023-05-15T16:09:10.991060Z",
     "iopub.status.busy": "2023-05-15T16:09:10.990044Z",
     "iopub.status.idle": "2023-05-15T16:09:11.017348Z",
     "shell.execute_reply": "2023-05-15T16:09:11.016332Z"
    },
    "executionInfo": {
     "elapsed": 7,
     "status": "ok",
     "timestamp": 1684057983166,
     "user": {
      "displayName": "Fangyijie Wang",
      "userId": "07701241728904216961"
     },
     "user_tz": -60
    },
    "id": "8RlkK2q8lNN5",
    "outputId": "ce741fe8-b124-4485-ee90-bf9a6264fa79",
    "papermill": {
     "duration": 0.056042,
     "end_time": "2023-05-15T16:09:11.021027",
     "exception": false,
     "start_time": "2023-05-15T16:09:10.964985",
     "status": "completed"
    },
    "tags": []
   },
   "outputs": [
    {
     "name": "stderr",
     "output_type": "stream",
     "text": [
      "5it [00:00, 1094.03it/s]"
     ]
    },
    {
     "name": "stdout",
     "output_type": "stream",
     "text": [
      "00eed32682bb\n",
      "010ebe33f668\n",
      "02fa521e1838\n",
      "040e15f562a2\n",
      "046e85c7cc7f\n",
      "Prediction Completed\n"
     ]
    },
    {
     "name": "stderr",
     "output_type": "stream",
     "text": [
      "\n"
     ]
    }
   ],
   "source": [
    "test_df =  model_tester(model_test, '/kaggle/input/icr-identify-age-related-conditions/test.csv')"
   ]
  },
  {
   "cell_type": "code",
   "execution_count": 43,
   "id": "d81f9310",
   "metadata": {
    "execution": {
     "iopub.execute_input": "2023-05-15T16:09:11.071301Z",
     "iopub.status.busy": "2023-05-15T16:09:11.070636Z",
     "iopub.status.idle": "2023-05-15T16:09:11.081825Z",
     "shell.execute_reply": "2023-05-15T16:09:11.080716Z"
    },
    "executionInfo": {
     "elapsed": 3,
     "status": "ok",
     "timestamp": 1684057986944,
     "user": {
      "displayName": "Fangyijie Wang",
      "userId": "07701241728904216961"
     },
     "user_tz": -60
    },
    "id": "HKB-RY1PlZ_c",
    "outputId": "ba95445a-972a-4d11-8cd4-1454418f8a6b",
    "papermill": {
     "duration": 0.038345,
     "end_time": "2023-05-15T16:09:11.083943",
     "exception": false,
     "start_time": "2023-05-15T16:09:11.045598",
     "status": "completed"
    },
    "tags": []
   },
   "outputs": [
    {
     "data": {
      "text/html": [
       "<div>\n",
       "<style scoped>\n",
       "    .dataframe tbody tr th:only-of-type {\n",
       "        vertical-align: middle;\n",
       "    }\n",
       "\n",
       "    .dataframe tbody tr th {\n",
       "        vertical-align: top;\n",
       "    }\n",
       "\n",
       "    .dataframe thead th {\n",
       "        text-align: right;\n",
       "    }\n",
       "</style>\n",
       "<table border=\"1\" class=\"dataframe\">\n",
       "  <thead>\n",
       "    <tr style=\"text-align: right;\">\n",
       "      <th></th>\n",
       "      <th>Id</th>\n",
       "      <th>class_0</th>\n",
       "      <th>class_1</th>\n",
       "    </tr>\n",
       "  </thead>\n",
       "  <tbody>\n",
       "    <tr>\n",
       "      <th>0</th>\n",
       "      <td>00eed32682bb</td>\n",
       "      <td>0.771845</td>\n",
       "      <td>0.228155</td>\n",
       "    </tr>\n",
       "    <tr>\n",
       "      <th>1</th>\n",
       "      <td>010ebe33f668</td>\n",
       "      <td>0.771845</td>\n",
       "      <td>0.228155</td>\n",
       "    </tr>\n",
       "    <tr>\n",
       "      <th>2</th>\n",
       "      <td>02fa521e1838</td>\n",
       "      <td>0.771845</td>\n",
       "      <td>0.228155</td>\n",
       "    </tr>\n",
       "    <tr>\n",
       "      <th>3</th>\n",
       "      <td>040e15f562a2</td>\n",
       "      <td>0.771845</td>\n",
       "      <td>0.228155</td>\n",
       "    </tr>\n",
       "    <tr>\n",
       "      <th>4</th>\n",
       "      <td>046e85c7cc7f</td>\n",
       "      <td>0.771845</td>\n",
       "      <td>0.228155</td>\n",
       "    </tr>\n",
       "  </tbody>\n",
       "</table>\n",
       "</div>"
      ],
      "text/plain": [
       "             Id   class_0   class_1\n",
       "0  00eed32682bb  0.771845  0.228155\n",
       "1  010ebe33f668  0.771845  0.228155\n",
       "2  02fa521e1838  0.771845  0.228155\n",
       "3  040e15f562a2  0.771845  0.228155\n",
       "4  046e85c7cc7f  0.771845  0.228155"
      ]
     },
     "execution_count": 43,
     "metadata": {},
     "output_type": "execute_result"
    }
   ],
   "source": [
    "test_df"
   ]
  },
  {
   "cell_type": "markdown",
   "id": "bb90117e",
   "metadata": {
    "id": "N9dk5B9vlROf",
    "papermill": {
     "duration": 0.023698,
     "end_time": "2023-05-15T16:09:11.131417",
     "exception": false,
     "start_time": "2023-05-15T16:09:11.107719",
     "status": "completed"
    },
    "tags": []
   },
   "source": [
    "Save the results"
   ]
  },
  {
   "cell_type": "code",
   "execution_count": 44,
   "id": "bb42b94d",
   "metadata": {
    "execution": {
     "iopub.execute_input": "2023-05-15T16:09:11.181007Z",
     "iopub.status.busy": "2023-05-15T16:09:11.180363Z",
     "iopub.status.idle": "2023-05-15T16:09:11.192491Z",
     "shell.execute_reply": "2023-05-15T16:09:11.191316Z"
    },
    "executionInfo": {
     "elapsed": 366,
     "status": "ok",
     "timestamp": 1684057993243,
     "user": {
      "displayName": "Fangyijie Wang",
      "userId": "07701241728904216961"
     },
     "user_tz": -60
    },
    "id": "M2W-OadUlUFd",
    "outputId": "a3350e06-8c70-46af-c81e-d16cb9ee628f",
    "papermill": {
     "duration": 0.039838,
     "end_time": "2023-05-15T16:09:11.194967",
     "exception": false,
     "start_time": "2023-05-15T16:09:11.155129",
     "status": "completed"
    },
    "tags": []
   },
   "outputs": [
    {
     "name": "stdout",
     "output_type": "stream",
     "text": [
      "Submission Completed\n"
     ]
    }
   ],
   "source": [
    "test_df.to_csv(\"./submission.csv\", index=False)\n",
    "print(\"Submission Completed\")"
   ]
  }
 ],
 "metadata": {
  "kernelspec": {
   "display_name": "Python 3",
   "language": "python",
   "name": "python3"
  },
  "language_info": {
   "codemirror_mode": {
    "name": "ipython",
    "version": 3
   },
   "file_extension": ".py",
   "mimetype": "text/x-python",
   "name": "python",
   "nbconvert_exporter": "python",
   "pygments_lexer": "ipython3",
   "version": "3.10.10"
  },
  "papermill": {
   "default_parameters": {},
   "duration": 26.024267,
   "end_time": "2023-05-15T16:09:12.643153",
   "environment_variables": {},
   "exception": null,
   "input_path": "__notebook__.ipynb",
   "output_path": "__notebook__.ipynb",
   "parameters": {},
   "start_time": "2023-05-15T16:08:46.618886",
   "version": "2.4.0"
  }
 },
 "nbformat": 4,
 "nbformat_minor": 5
}
